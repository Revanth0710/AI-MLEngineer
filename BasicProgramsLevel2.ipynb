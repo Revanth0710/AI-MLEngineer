{
  "cells": [
    {
      "cell_type": "markdown",
      "id": "e1644814-d837-481c-a09f-9291d3a149be",
      "metadata": {
        "id": "e1644814-d837-481c-a09f-9291d3a149be"
      },
      "source": [
        "Level 2 – Slightly Tricky\n",
        "\n",
        "1. Check if a number is Armstrong (e.g., 153)\n",
        "2. Sum of digits in a number.\n",
        "3. Find the GCD of two numbers\n",
        "4. Find LCM of two numbers.\n",
        "5. Print all factors of a number.\n",
        "6. Print prime numbers between 1 and 100.\n",
        "7. Swap two numbers (with and without temp variable).\n",
        "8. Check if a year is leap year or not.\n",
        "9. Check if a number is a perfect number.\n",
        "10. Convert decimal to binary."
      ]
    },
    {
      "cell_type": "markdown",
      "source": [
        "# 1. Check if a number is Armstrong (e.g., 153)"
      ],
      "metadata": {
        "id": "wtEDcs2RymT5"
      },
      "id": "wtEDcs2RymT5"
    },
    {
      "cell_type": "code",
      "execution_count": null,
      "id": "25c01ea8",
      "metadata": {
        "vscode": {
          "languageId": "plaintext"
        },
        "colab": {
          "base_uri": "https://localhost:8080/"
        },
        "id": "25c01ea8",
        "outputId": "cce2ff85-caac-4d33-9d36-7c64b26e417e"
      },
      "outputs": [
        {
          "output_type": "stream",
          "name": "stdout",
          "text": [
            "Enter the number: 153\n",
            "The number is an Armstrong number.\n"
          ]
        }
      ],
      "source": [
        "\n",
        "def check_armstrong(n):\n",
        "    alias = n\n",
        "    sum = 0\n",
        "    num_digits = len(str(n))\n",
        "\n",
        "    while n > 0:\n",
        "        digit = n % 10\n",
        "        sum += digit ** num_digits\n",
        "        n //= 10\n",
        "\n",
        "    return sum == alias\n",
        "\n",
        "\n",
        "n = int(input(\"Enter the number: \"))\n",
        "\n",
        "if check_armstrong(n):\n",
        "    print(\"The number is an Armstrong number.\")\n",
        "else:\n",
        "    print(\"The number is NOT an Armstrong number.\")"
      ]
    },
    {
      "cell_type": "markdown",
      "source": [
        "# 2. Sum of digits in a number."
      ],
      "metadata": {
        "id": "C-Kyda7YygTz"
      },
      "id": "C-Kyda7YygTz"
    },
    {
      "cell_type": "code",
      "source": [
        "def sum_of_digits(n):\n",
        "    total = 0\n",
        "    while n > 0:\n",
        "        digit = n % 10\n",
        "        total += digit\n",
        "        n //= 10\n",
        "    return total\n",
        "\n",
        "n = int(input(\"Enter the number: \"))\n",
        "result = sum_of_digits(n)\n",
        "print(\"Sum of digits is:\", result)"
      ],
      "metadata": {
        "colab": {
          "base_uri": "https://localhost:8080/"
        },
        "id": "E2O33ovoykcX",
        "outputId": "d90612e2-1770-4230-d257-b798fa960a8f"
      },
      "id": "E2O33ovoykcX",
      "execution_count": null,
      "outputs": [
        {
          "output_type": "stream",
          "name": "stdout",
          "text": [
            "Enter the number: 123\n",
            "Sum of digits is: 6\n"
          ]
        }
      ]
    },
    {
      "cell_type": "markdown",
      "source": [
        "# 3. Find the GCD of two numbers"
      ],
      "metadata": {
        "id": "u3UVSbMT3ayP"
      },
      "id": "u3UVSbMT3ayP"
    },
    {
      "cell_type": "code",
      "source": [
        "# GCD of two numbers is the same as the GCD of the smaller number and the remainder when the larger is divided by the smaller.\n",
        "\n",
        "# Eventually, the remainder becomes 0, and the smaller number at that point is the GCD.\n",
        "\n",
        "def gcd(a, b):\n",
        "    while b != 0:\n",
        "        a, b = b, a % b\n",
        "    return a\n",
        "\n",
        "# Example\n",
        "print(gcd(48, 18))"
      ],
      "metadata": {
        "colab": {
          "base_uri": "https://localhost:8080/"
        },
        "id": "asfYzsae0Bal",
        "outputId": "80914570-d861-433b-8eee-c41b4ffec613"
      },
      "id": "asfYzsae0Bal",
      "execution_count": null,
      "outputs": [
        {
          "output_type": "stream",
          "name": "stdout",
          "text": [
            "6\n"
          ]
        }
      ]
    },
    {
      "cell_type": "markdown",
      "source": [
        "# 4. Find the LCM of two numbers"
      ],
      "metadata": {
        "id": "DO0RmVbW3wto"
      },
      "id": "DO0RmVbW3wto"
    },
    {
      "cell_type": "code",
      "source": [
        "# It starts from the maximum of the two numbers and keeps incrementing by 1 until it finds a number that is divisible by both a and b.\n",
        "\n",
        "def lcm_without_gcd(a, b):\n",
        "\n",
        "    max_num = max(a, b)\n",
        "\n",
        "    while True:\n",
        "        if max_num % a == 0 and max_num % b == 0:\n",
        "            return max_num\n",
        "        max_num += 1\n",
        "\n",
        "a = int(input(\"Enter the first number: \"))\n",
        "b = int(input(\"Enter the second number: \"))\n",
        "\n",
        "print(f\"LCM of {a} and {b} is: {lcm_without_gcd(a, b)}\")\n"
      ],
      "metadata": {
        "colab": {
          "base_uri": "https://localhost:8080/"
        },
        "id": "hi-d2aKz3Z7r",
        "outputId": "b150dcc2-defd-49a0-dffd-0205e918ddd4"
      },
      "id": "hi-d2aKz3Z7r",
      "execution_count": null,
      "outputs": [
        {
          "output_type": "stream",
          "name": "stdout",
          "text": [
            "Enter the first number: 18\n",
            "Enter the second number: 5\n",
            "LCM of 18 and 5 is: 90\n"
          ]
        }
      ]
    },
    {
      "cell_type": "markdown",
      "source": [
        "# 5. Print all factors of a number."
      ],
      "metadata": {
        "id": "PnQbuBfUa75N"
      },
      "id": "PnQbuBfUa75N"
    },
    {
      "cell_type": "code",
      "source": [
        "def factors(n):\n",
        "    for i in range(1, n + 1):\n",
        "        if n % i == 0:\n",
        "            print(i, end=' ')  # print each factor on the same line\n",
        "\n",
        "num = int(input(\"Enter the number: \"))\n",
        "print(\"Factors of\", num, \"are:\", end=' ')\n",
        "factors(num)\n"
      ],
      "metadata": {
        "id": "ziFBYUIq6eQw",
        "colab": {
          "base_uri": "https://localhost:8080/"
        },
        "outputId": "835a2b89-85c2-42ee-ab6c-fee5852ce238"
      },
      "id": "ziFBYUIq6eQw",
      "execution_count": null,
      "outputs": [
        {
          "output_type": "stream",
          "name": "stdout",
          "text": [
            "Enter the number: 12\n",
            "Factors of 12 are: 1 2 3 4 6 12 "
          ]
        }
      ]
    },
    {
      "cell_type": "markdown",
      "source": [
        "# 6. Print prime numbers between 1 and 100."
      ],
      "metadata": {
        "id": "wqT6ayi_PaxI"
      },
      "id": "wqT6ayi_PaxI"
    },
    {
      "cell_type": "code",
      "source": [
        "def is_prime(n):\n",
        "    if n < 2:\n",
        "        return False\n",
        "    for i in range(2, (n // 2) + 1):\n",
        "        if n % i == 0:\n",
        "            return False\n",
        "    return True  # Only return True after all checks pass\n",
        "\n",
        "def prime_numbers(start, end):\n",
        "    for num in range(start, end + 1):\n",
        "        if is_prime(num):\n",
        "            print(num, end=\" \")\n",
        "\n",
        "start = int(input(\"Enter start of range: \"))\n",
        "end = int(input(\"Enter end of range: \"))\n",
        "prime_numbers(start, end)\n"
      ],
      "metadata": {
        "id": "3NlXbTtxdlym",
        "colab": {
          "base_uri": "https://localhost:8080/"
        },
        "outputId": "491f2211-3744-4338-aca1-78436b683fa7"
      },
      "id": "3NlXbTtxdlym",
      "execution_count": 6,
      "outputs": [
        {
          "output_type": "stream",
          "name": "stdout",
          "text": [
            "Enter start of range: 1\n",
            "Enter end of range: 100\n",
            "2 3 5 7 11 13 17 19 23 29 31 37 41 43 47 53 59 61 67 71 73 79 83 89 97 "
          ]
        }
      ]
    },
    {
      "cell_type": "markdown",
      "source": [
        "# 7. Swap two numbers (with and without temp variable)."
      ],
      "metadata": {
        "id": "_BH9IdCvXPEk"
      },
      "id": "_BH9IdCvXPEk"
    },
    {
      "cell_type": "code",
      "source": [
        "def swap(a,b):\n",
        "  return b,a\n",
        "n1 = int(input(\"Enter the first number\"))\n",
        "n2 = int(input(\"Enter the second number\"))\n",
        "n1,n2 = swap(n1,n2)\n",
        "print(\"First num After Swap\",n1)\n",
        "print(\"First num After Swap\",n2)"
      ],
      "metadata": {
        "colab": {
          "base_uri": "https://localhost:8080/"
        },
        "id": "NjobVO8RWPs4",
        "outputId": "60862c99-6425-4679-8abe-b5256d4816d8"
      },
      "id": "NjobVO8RWPs4",
      "execution_count": 20,
      "outputs": [
        {
          "output_type": "stream",
          "name": "stdout",
          "text": [
            "Enter the first number1\n",
            "Enter the second number2\n",
            "First num After Swap 2\n",
            "First num After Swap 1\n"
          ]
        }
      ]
    },
    {
      "cell_type": "code",
      "source": [
        "a,b= 5,6\n",
        "a,b = b,a\n",
        "print(a,b)\n",
        "\n"
      ],
      "metadata": {
        "colab": {
          "base_uri": "https://localhost:8080/"
        },
        "id": "bZvvdnvOXNS9",
        "outputId": "d3c76b7a-ed9a-44cd-e74d-e593e8bb8bb3"
      },
      "id": "bZvvdnvOXNS9",
      "execution_count": 21,
      "outputs": [
        {
          "output_type": "stream",
          "name": "stdout",
          "text": [
            "6 5\n"
          ]
        }
      ]
    },
    {
      "cell_type": "code",
      "source": [
        "x,y=5,6\n",
        "x = x+y\n",
        "y = x-y\n",
        "x = x-y\n",
        "print(x,y)"
      ],
      "metadata": {
        "colab": {
          "base_uri": "https://localhost:8080/"
        },
        "id": "SJ8bO1ejbaDn",
        "outputId": "aa35b91e-ae35-4b81-e071-1450fc0933fe"
      },
      "id": "SJ8bO1ejbaDn",
      "execution_count": 22,
      "outputs": [
        {
          "output_type": "stream",
          "name": "stdout",
          "text": [
            "6 5\n"
          ]
        }
      ]
    },
    {
      "cell_type": "code",
      "source": [],
      "metadata": {
        "id": "OQWh_83abj99"
      },
      "id": "OQWh_83abj99",
      "execution_count": null,
      "outputs": []
    }
  ],
  "metadata": {
    "kernelspec": {
      "display_name": "Python [conda env:base] *",
      "language": "python",
      "name": "conda-base-py"
    },
    "language_info": {
      "codemirror_mode": {
        "name": "ipython",
        "version": 3
      },
      "file_extension": ".py",
      "mimetype": "text/x-python",
      "name": "python",
      "nbconvert_exporter": "python",
      "pygments_lexer": "ipython3",
      "version": "3.12.7"
    },
    "colab": {
      "provenance": []
    }
  },
  "nbformat": 4,
  "nbformat_minor": 5
}