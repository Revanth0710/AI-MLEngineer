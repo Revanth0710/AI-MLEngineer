{
  "cells": [
    {
      "cell_type": "markdown",
      "id": "e1644814-d837-481c-a09f-9291d3a149be",
      "metadata": {
        "id": "e1644814-d837-481c-a09f-9291d3a149be"
      },
      "source": [
        "Level 2 – Slightly Tricky\n",
        "\n",
        "1. Check if a number is Armstrong (e.g., 153)\n",
        "2. Sum of digits in a number.\n",
        "3. Find the GCD of two numbers\n",
        "4. Find LCM of two numbers.\n",
        "5. Print all factors of a number.\n",
        "6. Check if a number is a perfect number.\n",
        "7. Convert decimal to binary.\n",
        "8. Swap two numbers (with and without temp variable).\n",
        "9. Check if a year is leap year or not.\n",
        "10. Print prime numbers between 1 and 100."
      ]
    },
    {
      "cell_type": "markdown",
      "source": [
        "# 1. Check if a number is Armstrong (e.g., 153)"
      ],
      "metadata": {
        "id": "wtEDcs2RymT5"
      },
      "id": "wtEDcs2RymT5"
    },
    {
      "cell_type": "code",
      "execution_count": null,
      "id": "25c01ea8",
      "metadata": {
        "vscode": {
          "languageId": "plaintext"
        },
        "colab": {
          "base_uri": "https://localhost:8080/"
        },
        "id": "25c01ea8",
        "outputId": "cce2ff85-caac-4d33-9d36-7c64b26e417e"
      },
      "outputs": [
        {
          "output_type": "stream",
          "name": "stdout",
          "text": [
            "Enter the number: 153\n",
            "The number is an Armstrong number.\n"
          ]
        }
      ],
      "source": [
        "\n",
        "def check_armstrong(n):\n",
        "    alias = n\n",
        "    sum = 0\n",
        "    num_digits = len(str(n))\n",
        "\n",
        "    while n > 0:\n",
        "        digit = n % 10\n",
        "        sum += digit ** num_digits\n",
        "        n //= 10\n",
        "\n",
        "    return sum == alias\n",
        "\n",
        "\n",
        "n = int(input(\"Enter the number: \"))\n",
        "\n",
        "if check_armstrong(n):\n",
        "    print(\"The number is an Armstrong number.\")\n",
        "else:\n",
        "    print(\"The number is NOT an Armstrong number.\")"
      ]
    },
    {
      "cell_type": "markdown",
      "source": [
        "# 2. Sum of digits in a number."
      ],
      "metadata": {
        "id": "C-Kyda7YygTz"
      },
      "id": "C-Kyda7YygTz"
    },
    {
      "cell_type": "code",
      "source": [
        "def sum_of_digits(n):\n",
        "    total = 0\n",
        "    while n > 0:\n",
        "        digit = n % 10\n",
        "        total += digit\n",
        "        n //= 10\n",
        "    return total\n",
        "\n",
        "n = int(input(\"Enter the number: \"))\n",
        "result = sum_of_digits(n)\n",
        "print(\"Sum of digits is:\", result)"
      ],
      "metadata": {
        "colab": {
          "base_uri": "https://localhost:8080/"
        },
        "id": "E2O33ovoykcX",
        "outputId": "d90612e2-1770-4230-d257-b798fa960a8f"
      },
      "id": "E2O33ovoykcX",
      "execution_count": null,
      "outputs": [
        {
          "output_type": "stream",
          "name": "stdout",
          "text": [
            "Enter the number: 123\n",
            "Sum of digits is: 6\n"
          ]
        }
      ]
    },
    {
      "cell_type": "markdown",
      "source": [
        "# 3. Find the GCD of two numbers"
      ],
      "metadata": {
        "id": "u3UVSbMT3ayP"
      },
      "id": "u3UVSbMT3ayP"
    },
    {
      "cell_type": "code",
      "source": [
        "# GCD of two numbers is the same as the GCD of the smaller number and the remainder when the larger is divided by the smaller.\n",
        "\n",
        "# Eventually, the remainder becomes 0, and the smaller number at that point is the GCD.\n",
        "\n",
        "def gcd(a, b):\n",
        "    while b != 0:\n",
        "        a, b = b, a % b\n",
        "    return a\n",
        "\n",
        "# Example\n",
        "print(gcd(48, 18))"
      ],
      "metadata": {
        "colab": {
          "base_uri": "https://localhost:8080/"
        },
        "id": "asfYzsae0Bal",
        "outputId": "80914570-d861-433b-8eee-c41b4ffec613"
      },
      "id": "asfYzsae0Bal",
      "execution_count": null,
      "outputs": [
        {
          "output_type": "stream",
          "name": "stdout",
          "text": [
            "6\n"
          ]
        }
      ]
    },
    {
      "cell_type": "markdown",
      "source": [
        "# 4. Find the LCM of two numbers"
      ],
      "metadata": {
        "id": "DO0RmVbW3wto"
      },
      "id": "DO0RmVbW3wto"
    },
    {
      "cell_type": "code",
      "source": [
        "# It starts from the maximum of the two numbers and keeps incrementing by 1 until it finds a number that is divisible by both a and b.\n",
        "\n",
        "def lcm_without_gcd(a, b):\n",
        "\n",
        "    max_num = max(a, b)\n",
        "\n",
        "    while True:\n",
        "        if max_num % a == 0 and max_num % b == 0:\n",
        "            return max_num\n",
        "        max_num += 1\n",
        "\n",
        "a = int(input(\"Enter the first number: \"))\n",
        "b = int(input(\"Enter the second number: \"))\n",
        "\n",
        "print(f\"LCM of {a} and {b} is: {lcm_without_gcd(a, b)}\")\n"
      ],
      "metadata": {
        "colab": {
          "base_uri": "https://localhost:8080/"
        },
        "id": "hi-d2aKz3Z7r",
        "outputId": "b150dcc2-defd-49a0-dffd-0205e918ddd4"
      },
      "id": "hi-d2aKz3Z7r",
      "execution_count": null,
      "outputs": [
        {
          "output_type": "stream",
          "name": "stdout",
          "text": [
            "Enter the first number: 18\n",
            "Enter the second number: 5\n",
            "LCM of 18 and 5 is: 90\n"
          ]
        }
      ]
    },
    {
      "cell_type": "markdown",
      "source": [
        "# 5. Print all factors of a number."
      ],
      "metadata": {
        "id": "PnQbuBfUa75N"
      },
      "id": "PnQbuBfUa75N"
    },
    {
      "cell_type": "code",
      "source": [
        "def factors(n):\n",
        "    for i in range(1, n + 1):\n",
        "        if n % i == 0:\n",
        "            print(i, end=' ')  # print each factor on the same line\n",
        "\n",
        "num = int(input(\"Enter the number: \"))\n",
        "print(\"Factors of\", num, \"are:\", end=' ')\n",
        "factors(num)\n"
      ],
      "metadata": {
        "id": "ziFBYUIq6eQw",
        "colab": {
          "base_uri": "https://localhost:8080/"
        },
        "outputId": "835a2b89-85c2-42ee-ab6c-fee5852ce238"
      },
      "id": "ziFBYUIq6eQw",
      "execution_count": 11,
      "outputs": [
        {
          "output_type": "stream",
          "name": "stdout",
          "text": [
            "Enter the number: 12\n",
            "Factors of 12 are: 1 2 3 4 6 12 "
          ]
        }
      ]
    },
    {
      "cell_type": "code",
      "source": [],
      "metadata": {
        "id": "3NlXbTtxdlym"
      },
      "id": "3NlXbTtxdlym",
      "execution_count": null,
      "outputs": []
    }
  ],
  "metadata": {
    "kernelspec": {
      "display_name": "Python [conda env:base] *",
      "language": "python",
      "name": "conda-base-py"
    },
    "language_info": {
      "codemirror_mode": {
        "name": "ipython",
        "version": 3
      },
      "file_extension": ".py",
      "mimetype": "text/x-python",
      "name": "python",
      "nbconvert_exporter": "python",
      "pygments_lexer": "ipython3",
      "version": "3.12.7"
    },
    "colab": {
      "provenance": []
    }
  },
  "nbformat": 4,
  "nbformat_minor": 5
}