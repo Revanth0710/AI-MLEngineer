{
 "cells": [
  {
   "cell_type": "code",
   "execution_count": 1,
   "id": "df080a3e-5da2-4276-90b9-865a79217e4a",
   "metadata": {},
   "outputs": [
    {
     "data": {
      "text/plain": [
       "1"
      ]
     },
     "execution_count": 1,
     "metadata": {},
     "output_type": "execute_result"
    }
   ],
   "source": [
    "1"
   ]
  },
  {
   "cell_type": "code",
   "execution_count": 2,
   "id": "992a7a0a-4934-42a0-8f86-42724f0f031c",
   "metadata": {},
   "outputs": [
    {
     "data": {
      "text/plain": [
       "1.0"
      ]
     },
     "execution_count": 2,
     "metadata": {},
     "output_type": "execute_result"
    }
   ],
   "source": [
    "1.0"
   ]
  },
  {
   "cell_type": "code",
   "execution_count": 3,
   "id": "7409aa9d-ff07-4b3e-8443-ec17eccfea29",
   "metadata": {},
   "outputs": [
    {
     "data": {
      "text/plain": [
       "2"
      ]
     },
     "execution_count": 3,
     "metadata": {},
     "output_type": "execute_result"
    }
   ],
   "source": [
    "1+1"
   ]
  },
  {
   "cell_type": "code",
   "execution_count": 4,
   "id": "643dac70-1ff1-4804-91b4-1e3eae00714b",
   "metadata": {},
   "outputs": [
    {
     "data": {
      "text/plain": [
       "3"
      ]
     },
     "execution_count": 4,
     "metadata": {},
     "output_type": "execute_result"
    }
   ],
   "source": [
    "1*3"
   ]
  },
  {
   "cell_type": "code",
   "execution_count": 5,
   "id": "1de4797e-44b6-45ac-b376-91ba33cb61f1",
   "metadata": {},
   "outputs": [
    {
     "data": {
      "text/plain": [
       "0.5"
      ]
     },
     "execution_count": 5,
     "metadata": {},
     "output_type": "execute_result"
    }
   ],
   "source": [
    "1/2.0"
   ]
  },
  {
   "cell_type": "code",
   "execution_count": 6,
   "id": "6c8643f8-eadd-4d35-ba27-f62c4fbe1eef",
   "metadata": {},
   "outputs": [
    {
     "data": {
      "text/plain": [
       "8"
      ]
     },
     "execution_count": 6,
     "metadata": {},
     "output_type": "execute_result"
    }
   ],
   "source": [
    "2 ** 3"
   ]
  },
  {
   "cell_type": "code",
   "execution_count": 7,
   "id": "2f9ae1ee-aeb2-4fb1-8d2b-b1addaf918e9",
   "metadata": {},
   "outputs": [
    {
     "data": {
      "text/plain": [
       "22"
      ]
     },
     "execution_count": 7,
     "metadata": {},
     "output_type": "execute_result"
    }
   ],
   "source": [
    "2+3*5+5"
   ]
  },
  {
   "cell_type": "code",
   "execution_count": 8,
   "id": "54b70e6d-1d75-4559-addb-569a329b9a20",
   "metadata": {},
   "outputs": [
    {
     "data": {
      "text/plain": [
       "50"
      ]
     },
     "execution_count": 8,
     "metadata": {},
     "output_type": "execute_result"
    }
   ],
   "source": [
    "(2+3) * (5+5)"
   ]
  },
  {
   "cell_type": "code",
   "execution_count": 9,
   "id": "18f2674c-3549-4546-983c-d12477fb79aa",
   "metadata": {},
   "outputs": [
    {
     "data": {
      "text/plain": [
       "0"
      ]
     },
     "execution_count": 9,
     "metadata": {},
     "output_type": "execute_result"
    }
   ],
   "source": [
    "4%2"
   ]
  },
  {
   "cell_type": "markdown",
   "id": "a4844f87-aa6a-4cc0-b3cc-a7bc3a7deacf",
   "metadata": {},
   "source": [
    "For finding odd or Even number we can use modulo number for finding reminder"
   ]
  },
  {
   "cell_type": "code",
   "execution_count": 11,
   "id": "d76911d9-1963-4007-9123-acb8c75fd3a3",
   "metadata": {},
   "outputs": [
    {
     "data": {
      "text/plain": [
       "1"
      ]
     },
     "execution_count": 11,
     "metadata": {},
     "output_type": "execute_result"
    }
   ],
   "source": [
    "5%2"
   ]
  },
  {
   "cell_type": "code",
   "execution_count": 12,
   "id": "696b9b36-0f51-4d35-a77b-b841a27e0bfd",
   "metadata": {},
   "outputs": [
    {
     "data": {
      "text/plain": [
       "0"
      ]
     },
     "execution_count": 12,
     "metadata": {},
     "output_type": "execute_result"
    }
   ],
   "source": [
    "8%2"
   ]
  },
  {
   "cell_type": "code",
   "execution_count": 13,
   "id": "c7218b82-5077-43b2-8fc3-63c5434d8f31",
   "metadata": {},
   "outputs": [
    {
     "data": {
      "text/plain": [
       "2"
      ]
     },
     "execution_count": 13,
     "metadata": {},
     "output_type": "execute_result"
    }
   ],
   "source": [
    "var = 2 \n",
    "var"
   ]
  },
  {
   "cell_type": "code",
   "execution_count": 14,
   "id": "c9ec91d7-1e0e-43f1-a605-162b6eea03a4",
   "metadata": {},
   "outputs": [
    {
     "data": {
      "text/plain": [
       "5"
      ]
     },
     "execution_count": 14,
     "metadata": {},
     "output_type": "execute_result"
    }
   ],
   "source": [
    "x = 2 \n",
    "y = 3\n",
    "x+y"
   ]
  },
  {
   "cell_type": "code",
   "execution_count": 15,
   "id": "cb7452d0-3f95-49ae-acff-cc972c89515e",
   "metadata": {},
   "outputs": [],
   "source": [
    "x = x+x"
   ]
  },
  {
   "cell_type": "code",
   "execution_count": 16,
   "id": "434f8547-63ca-4545-b7e8-b3bb3d4de914",
   "metadata": {},
   "outputs": [
    {
     "data": {
      "text/plain": [
       "4"
      ]
     },
     "execution_count": 16,
     "metadata": {},
     "output_type": "execute_result"
    }
   ],
   "source": [
    "x"
   ]
  },
  {
   "cell_type": "code",
   "execution_count": 17,
   "id": "8d1e6701-0ba8-4349-a6dc-3730a6fdb6dd",
   "metadata": {},
   "outputs": [],
   "source": [
    "x = x+x"
   ]
  },
  {
   "cell_type": "code",
   "execution_count": 18,
   "id": "3ffef943-840d-41f4-a614-42fe56dda860",
   "metadata": {},
   "outputs": [
    {
     "data": {
      "text/plain": [
       "8"
      ]
     },
     "execution_count": 18,
     "metadata": {},
     "output_type": "execute_result"
    }
   ],
   "source": [
    "x"
   ]
  },
  {
   "cell_type": "code",
   "execution_count": 19,
   "id": "b24c4f02-34d1-4f5a-8c6e-61342e0b0eeb",
   "metadata": {},
   "outputs": [],
   "source": [
    "name_of_var = 12 "
   ]
  },
  {
   "cell_type": "code",
   "execution_count": 20,
   "id": "f73509cb-8bfa-48bc-a416-a4e51dd48d84",
   "metadata": {},
   "outputs": [],
   "source": [
    "# Strings"
   ]
  },
  {
   "cell_type": "code",
   "execution_count": 21,
   "id": "5016d5b8-31b5-462f-bf54-0310f7bb1c9a",
   "metadata": {},
   "outputs": [
    {
     "data": {
      "text/plain": [
       "' single quote '"
      ]
     },
     "execution_count": 21,
     "metadata": {},
     "output_type": "execute_result"
    }
   ],
   "source": [
    "' single quote '"
   ]
  },
  {
   "cell_type": "code",
   "execution_count": 22,
   "id": "1a57a337-e260-438e-a00e-1a946b7e6314",
   "metadata": {},
   "outputs": [
    {
     "data": {
      "text/plain": [
       "' This is A String '"
      ]
     },
     "execution_count": 22,
     "metadata": {},
     "output_type": "execute_result"
    }
   ],
   "source": [
    "\" This is A String \""
   ]
  },
  {
   "cell_type": "code",
   "execution_count": 23,
   "id": "c254d07f-f555-4a8b-96a3-ec5f31fd2c00",
   "metadata": {},
   "outputs": [],
   "source": [
    "x = 'hello'"
   ]
  },
  {
   "cell_type": "code",
   "execution_count": 24,
   "id": "2a446bd4-2218-4f05-ae05-0ac236c0b138",
   "metadata": {},
   "outputs": [
    {
     "data": {
      "text/plain": [
       "'hello'"
      ]
     },
     "execution_count": 24,
     "metadata": {},
     "output_type": "execute_result"
    }
   ],
   "source": [
    "x"
   ]
  },
  {
   "cell_type": "code",
   "execution_count": 25,
   "id": "c2274390-1472-4f79-a9df-fe617a2e4c6d",
   "metadata": {},
   "outputs": [
    {
     "name": "stdout",
     "output_type": "stream",
     "text": [
      "hello\n"
     ]
    }
   ],
   "source": [
    "print(x)"
   ]
  },
  {
   "cell_type": "code",
   "execution_count": 26,
   "id": "f43fa76b-d527-4cb1-bbab-2b7f7019b0ef",
   "metadata": {},
   "outputs": [],
   "source": [
    "num = 12 \n",
    "\n",
    "name = 'Sam'"
   ]
  },
  {
   "cell_type": "code",
   "execution_count": 27,
   "id": "a4bc5775-3b60-4ae6-85bd-08d72dfc8455",
   "metadata": {},
   "outputs": [
    {
     "name": "stdout",
     "output_type": "stream",
     "text": [
      "My number is 12 and my name is Sam\n"
     ]
    }
   ],
   "source": [
    "print('My number is {one} and my name is {two}'.format(one=num, two=name))"
   ]
  },
  {
   "cell_type": "code",
   "execution_count": 28,
   "id": "8eec7b74-bd70-43b2-81cf-5c931615e904",
   "metadata": {},
   "outputs": [],
   "source": [
    "s ='hello'"
   ]
  },
  {
   "cell_type": "code",
   "execution_count": 29,
   "id": "ca478797-3ceb-4115-86d7-fec0212a24fd",
   "metadata": {},
   "outputs": [],
   "source": [
    "# Last char in string"
   ]
  },
  {
   "cell_type": "code",
   "execution_count": 30,
   "id": "02d512e2-6ad6-4e97-bc92-c4a75d2e1c12",
   "metadata": {},
   "outputs": [
    {
     "data": {
      "text/plain": [
       "'o'"
      ]
     },
     "execution_count": 30,
     "metadata": {},
     "output_type": "execute_result"
    }
   ],
   "source": [
    "s[-1]"
   ]
  },
  {
   "cell_type": "markdown",
   "id": "279ee9f4-6aa4-4987-b134-062c7c297225",
   "metadata": {},
   "source": [
    "Reverse a string"
   ]
  },
  {
   "cell_type": "code",
   "execution_count": 32,
   "id": "5959d66f-dad9-41f8-b8ed-d21d085edb01",
   "metadata": {},
   "outputs": [
    {
     "data": {
      "text/plain": [
       "'olleh'"
      ]
     },
     "execution_count": 32,
     "metadata": {},
     "output_type": "execute_result"
    }
   ],
   "source": [
    "s[::-1]"
   ]
  },
  {
   "cell_type": "code",
   "execution_count": 33,
   "id": "8034c161-bc4a-47c1-bb58-698ac82bb7fc",
   "metadata": {},
   "outputs": [],
   "source": [
    "s = \"RevanthKamisetty\""
   ]
  },
  {
   "cell_type": "code",
   "execution_count": 34,
   "id": "0eb51ebc-321e-4c9d-ab2a-445207bb4b5b",
   "metadata": {},
   "outputs": [
    {
     "data": {
      "text/plain": [
       "'RevanthKamisetty'"
      ]
     },
     "execution_count": 34,
     "metadata": {},
     "output_type": "execute_result"
    }
   ],
   "source": [
    "s[0:]"
   ]
  },
  {
   "cell_type": "code",
   "execution_count": 35,
   "id": "225886b5-06c7-4003-b7e7-09f8ccd55662",
   "metadata": {},
   "outputs": [
    {
     "data": {
      "text/plain": [
       "'Revanth'"
      ]
     },
     "execution_count": 35,
     "metadata": {},
     "output_type": "execute_result"
    }
   ],
   "source": [
    "s[:7]"
   ]
  },
  {
   "cell_type": "code",
   "execution_count": 36,
   "id": "9331dddc-ea2e-4985-bfeb-9b2295877193",
   "metadata": {},
   "outputs": [
    {
     "data": {
      "text/plain": [
       "'Revanth'"
      ]
     },
     "execution_count": 36,
     "metadata": {},
     "output_type": "execute_result"
    }
   ],
   "source": [
    "s[0:7]"
   ]
  },
  {
   "cell_type": "code",
   "execution_count": 37,
   "id": "bc03d1d5-4785-44ff-b842-867d0d467d0a",
   "metadata": {},
   "outputs": [],
   "source": [
    "# last num not included "
   ]
  },
  {
   "cell_type": "code",
   "execution_count": 38,
   "id": "3ae39a5c-50ef-4c20-9e4a-bd8e9eb7eff0",
   "metadata": {},
   "outputs": [
    {
     "data": {
      "text/plain": [
       "[1, 2, 3]"
      ]
     },
     "execution_count": 38,
     "metadata": {},
     "output_type": "execute_result"
    }
   ],
   "source": [
    "[1,2,3]"
   ]
  },
  {
   "cell_type": "code",
   "execution_count": 39,
   "id": "345e794e-ce70-42f1-a155-105d82038a7f",
   "metadata": {},
   "outputs": [
    {
     "data": {
      "text/plain": [
       "['a', 'b', 'c']"
      ]
     },
     "execution_count": 39,
     "metadata": {},
     "output_type": "execute_result"
    }
   ],
   "source": [
    "['a','b','c']"
   ]
  },
  {
   "cell_type": "code",
   "execution_count": 40,
   "id": "c1c39ba8-d677-4dab-9038-061b1d746c12",
   "metadata": {},
   "outputs": [],
   "source": [
    "my_list = ['a','b','c']"
   ]
  },
  {
   "cell_type": "code",
   "execution_count": 41,
   "id": "b2d0c562-2fbb-4ab9-a5fa-878502bafc5f",
   "metadata": {},
   "outputs": [],
   "source": [
    "my_list.append('d')"
   ]
  },
  {
   "cell_type": "code",
   "execution_count": 42,
   "id": "6a078d8f-578b-4c31-9836-17599f845eca",
   "metadata": {},
   "outputs": [
    {
     "name": "stdout",
     "output_type": "stream",
     "text": [
      "['a', 'b', 'c', 'd']\n"
     ]
    }
   ],
   "source": [
    "print(my_list)"
   ]
  },
  {
   "cell_type": "code",
   "execution_count": 43,
   "id": "0a26ae99-89e6-491b-8c44-cdebe0be5fb4",
   "metadata": {},
   "outputs": [
    {
     "data": {
      "text/plain": [
       "['b', 'c']"
      ]
     },
     "execution_count": 43,
     "metadata": {},
     "output_type": "execute_result"
    }
   ],
   "source": [
    "my_list[1:3]"
   ]
  },
  {
   "cell_type": "code",
   "execution_count": 44,
   "id": "4d1a684a-6588-4514-8a9d-8541429c4740",
   "metadata": {},
   "outputs": [
    {
     "data": {
      "text/plain": [
       "'a'"
      ]
     },
     "execution_count": 44,
     "metadata": {},
     "output_type": "execute_result"
    }
   ],
   "source": [
    "my_list[0]"
   ]
  },
  {
   "cell_type": "code",
   "execution_count": 45,
   "id": "81ec7521-b79d-449b-9cbb-1119c4415cba",
   "metadata": {},
   "outputs": [],
   "source": [
    "my_list[0] = 'new'"
   ]
  },
  {
   "cell_type": "code",
   "execution_count": 46,
   "id": "25a1e68e-9394-433f-9e91-dd46fb949c22",
   "metadata": {},
   "outputs": [
    {
     "data": {
      "text/plain": [
       "['new', 'b', 'c', 'd']"
      ]
     },
     "execution_count": 46,
     "metadata": {},
     "output_type": "execute_result"
    }
   ],
   "source": [
    "my_list"
   ]
  },
  {
   "cell_type": "code",
   "execution_count": 47,
   "id": "c214dfae-3301-4a5e-a4a5-b25419551c14",
   "metadata": {},
   "outputs": [],
   "source": [
    "nest = [1,2,[3,4]]"
   ]
  },
  {
   "cell_type": "code",
   "execution_count": 48,
   "id": "cc864703-6740-46cc-a293-fe2d1808d38e",
   "metadata": {},
   "outputs": [
    {
     "data": {
      "text/plain": [
       "[1, 2, [3, 4]]"
      ]
     },
     "execution_count": 48,
     "metadata": {},
     "output_type": "execute_result"
    }
   ],
   "source": [
    "nest"
   ]
  },
  {
   "cell_type": "code",
   "execution_count": 49,
   "id": "bae908bd-bad8-4f2f-a650-66ab22eb2cf0",
   "metadata": {},
   "outputs": [
    {
     "data": {
      "text/plain": [
       "[3, 4]"
      ]
     },
     "execution_count": 49,
     "metadata": {},
     "output_type": "execute_result"
    }
   ],
   "source": [
    "nest[2]"
   ]
  },
  {
   "cell_type": "code",
   "execution_count": 50,
   "id": "61f5f454-9dc6-4283-b31d-ff85a12f29d4",
   "metadata": {},
   "outputs": [
    {
     "data": {
      "text/plain": [
       "4"
      ]
     },
     "execution_count": 50,
     "metadata": {},
     "output_type": "execute_result"
    }
   ],
   "source": [
    "nest[2][1]"
   ]
  },
  {
   "cell_type": "code",
   "execution_count": 51,
   "id": "184e0f33-db18-45e7-bc91-29d4973ab5b3",
   "metadata": {},
   "outputs": [],
   "source": [
    "nest = [1,2,3,[4,5,['target']]]\n"
   ]
  },
  {
   "cell_type": "code",
   "execution_count": 52,
   "id": "ddda1723-c409-4c3e-99e5-18136a05ec31",
   "metadata": {},
   "outputs": [
    {
     "name": "stdout",
     "output_type": "stream",
     "text": [
      "['target']\n"
     ]
    }
   ],
   "source": [
    "print(nest[3][2])"
   ]
  },
  {
   "cell_type": "code",
   "execution_count": 53,
   "id": "558258b6-bedc-4818-8bce-33896e47fea2",
   "metadata": {},
   "outputs": [],
   "source": [
    "# Zero will give only item"
   ]
  },
  {
   "cell_type": "code",
   "execution_count": 54,
   "id": "febdac7b-c1c0-47bc-af0c-6d0e95325f68",
   "metadata": {},
   "outputs": [
    {
     "name": "stdout",
     "output_type": "stream",
     "text": [
      "target\n"
     ]
    }
   ],
   "source": [
    "print(nest[3][2][0])"
   ]
  },
  {
   "cell_type": "markdown",
   "id": "4aed615f-9429-4b1b-b307-9f70bf9217ba",
   "metadata": {},
   "source": [
    "Dictionaries"
   ]
  },
  {
   "cell_type": "code",
   "execution_count": 108,
   "id": "77ab179b-4517-4716-bbbf-329df1e33dab",
   "metadata": {},
   "outputs": [],
   "source": [
    "d = {'key1': 'value', 'key2': 123}"
   ]
  },
  {
   "cell_type": "code",
   "execution_count": 112,
   "id": "40e8da60-bf5c-468a-930a-40524fb8f1c5",
   "metadata": {},
   "outputs": [
    {
     "data": {
      "text/plain": [
       "'value'"
      ]
     },
     "execution_count": 112,
     "metadata": {},
     "output_type": "execute_result"
    }
   ],
   "source": [
    "d['key1']"
   ]
  },
  {
   "cell_type": "code",
   "execution_count": 114,
   "id": "8c280443-45ad-427d-8d82-9d0731e8627a",
   "metadata": {},
   "outputs": [],
   "source": [
    "d = {'k1':[1,2,3]}"
   ]
  },
  {
   "cell_type": "code",
   "execution_count": 118,
   "id": "15293427-8ec8-4a9c-82d5-4a2c33cfefb4",
   "metadata": {},
   "outputs": [
    {
     "data": {
      "text/plain": [
       "1"
      ]
     },
     "execution_count": 118,
     "metadata": {},
     "output_type": "execute_result"
    }
   ],
   "source": [
    "d['k1'][0]"
   ]
  },
  {
   "cell_type": "code",
   "execution_count": 120,
   "id": "6127c315-91e4-4d14-b677-025454ac5b10",
   "metadata": {},
   "outputs": [],
   "source": [
    "my_list = d['k1']"
   ]
  },
  {
   "cell_type": "code",
   "execution_count": 122,
   "id": "fff2ba9d-2604-47d0-9a8f-8685b4b29064",
   "metadata": {},
   "outputs": [
    {
     "data": {
      "text/plain": [
       "1"
      ]
     },
     "execution_count": 122,
     "metadata": {},
     "output_type": "execute_result"
    }
   ],
   "source": [
    "my_list[0]"
   ]
  },
  {
   "cell_type": "code",
   "execution_count": 124,
   "id": "5524d943-b5c8-4e2f-b4a0-8069249b1ceb",
   "metadata": {},
   "outputs": [
    {
     "data": {
      "text/plain": [
       "1"
      ]
     },
     "execution_count": 124,
     "metadata": {},
     "output_type": "execute_result"
    }
   ],
   "source": [
    "d['k1'][0]"
   ]
  },
  {
   "cell_type": "code",
   "execution_count": 130,
   "id": "1396998d-ddd9-4fd8-9e9c-dbe27babff5a",
   "metadata": {},
   "outputs": [],
   "source": [
    " d = {'k1':{'innerkey':[1,2,3]}}"
   ]
  },
  {
   "cell_type": "code",
   "execution_count": 132,
   "id": "c8ebf43f-161c-4938-8afd-d05f751c0410",
   "metadata": {},
   "outputs": [
    {
     "data": {
      "text/plain": [
       "{'innerkey': [1, 2, 3]}"
      ]
     },
     "execution_count": 132,
     "metadata": {},
     "output_type": "execute_result"
    }
   ],
   "source": [
    "d['k1']"
   ]
  },
  {
   "cell_type": "code",
   "execution_count": 138,
   "id": "f0c0d735-67cd-4044-a08b-c36b75442c89",
   "metadata": {},
   "outputs": [
    {
     "data": {
      "text/plain": [
       "1"
      ]
     },
     "execution_count": 138,
     "metadata": {},
     "output_type": "execute_result"
    }
   ],
   "source": [
    "d['k1']['innerkey'][0]"
   ]
  },
  {
   "cell_type": "code",
   "execution_count": null,
   "id": "8654b0f5-5920-4b99-a516-7ebe8cd522fd",
   "metadata": {},
   "outputs": [],
   "source": [
    "Bool"
   ]
  },
  {
   "cell_type": "code",
   "execution_count": 140,
   "id": "4551ae99-72b3-44d6-a051-b75ca3365df9",
   "metadata": {},
   "outputs": [
    {
     "data": {
      "text/plain": [
       "True"
      ]
     },
     "execution_count": 140,
     "metadata": {},
     "output_type": "execute_result"
    }
   ],
   "source": [
    "True"
   ]
  },
  {
   "cell_type": "code",
   "execution_count": 142,
   "id": "0a5a8e0f-98ed-43c4-b706-a6cebcd5d4b7",
   "metadata": {},
   "outputs": [
    {
     "data": {
      "text/plain": [
       "False"
      ]
     },
     "execution_count": 142,
     "metadata": {},
     "output_type": "execute_result"
    }
   ],
   "source": [
    "False"
   ]
  },
  {
   "cell_type": "code",
   "execution_count": 144,
   "id": "85f032b1-9b6d-4277-b68f-643c7dcf16b1",
   "metadata": {},
   "outputs": [],
   "source": [
    "my_list = [1,2,3]"
   ]
  },
  {
   "cell_type": "code",
   "execution_count": 146,
   "id": "e14b04d7-de65-420b-a42d-7f636ccb5137",
   "metadata": {},
   "outputs": [
    {
     "data": {
      "text/plain": [
       "1"
      ]
     },
     "execution_count": 146,
     "metadata": {},
     "output_type": "execute_result"
    }
   ],
   "source": [
    "my_list[0]"
   ]
  },
  {
   "cell_type": "code",
   "execution_count": 150,
   "id": "041b3451-97d6-4f56-8ca3-b17eea272d24",
   "metadata": {},
   "outputs": [],
   "source": [
    "t= (1,2,3)"
   ]
  },
  {
   "cell_type": "code",
   "execution_count": 152,
   "id": "1598c220-23ab-41d4-b69e-a328e1de2a21",
   "metadata": {},
   "outputs": [
    {
     "data": {
      "text/plain": [
       "1"
      ]
     },
     "execution_count": 152,
     "metadata": {},
     "output_type": "execute_result"
    }
   ],
   "source": [
    "t[0]"
   ]
  },
  {
   "cell_type": "code",
   "execution_count": null,
   "id": "c43e0ed8-9ba6-4428-a319-37db0b79eea3",
   "metadata": {},
   "outputs": [],
   "source": [
    "Tuples are immutable, does not support item assignment"
   ]
  },
  {
   "cell_type": "code",
   "execution_count": 154,
   "id": "dc237c0d-fcb6-4fd3-8395-f1566893e9e6",
   "metadata": {},
   "outputs": [
    {
     "ename": "TypeError",
     "evalue": "'tuple' object does not support item assignment",
     "output_type": "error",
     "traceback": [
      "\u001b[0;31m---------------------------------------------------------------------------\u001b[0m",
      "\u001b[0;31mTypeError\u001b[0m                                 Traceback (most recent call last)",
      "Cell \u001b[0;32mIn[154], line 1\u001b[0m\n\u001b[0;32m----> 1\u001b[0m t[\u001b[38;5;241m0\u001b[39m] \u001b[38;5;241m=\u001b[39m \u001b[38;5;124m'\u001b[39m\u001b[38;5;124mNew\u001b[39m\u001b[38;5;124m'\u001b[39m\n",
      "\u001b[0;31mTypeError\u001b[0m: 'tuple' object does not support item assignment"
     ]
    }
   ],
   "source": [
    "t[0] = 'New'"
   ]
  },
  {
   "cell_type": "code",
   "execution_count": null,
   "id": "4e583bd7-8f91-4afe-91bf-32abf56c1326",
   "metadata": {},
   "outputs": [],
   "source": [
    "#Sets are unique elements"
   ]
  },
  {
   "cell_type": "code",
   "execution_count": 156,
   "id": "bef47d3a-d766-4114-a107-5da2c310ac9d",
   "metadata": {},
   "outputs": [
    {
     "data": {
      "text/plain": [
       "{1, 2, 4}"
      ]
     },
     "execution_count": 156,
     "metadata": {},
     "output_type": "execute_result"
    }
   ],
   "source": [
    "{1,1,2,4,4}"
   ]
  },
  {
   "cell_type": "code",
   "execution_count": 158,
   "id": "65dc5638-d3c8-4515-b730-100b0b9ecb21",
   "metadata": {},
   "outputs": [],
   "source": [
    "s= {1,2,3}"
   ]
  },
  {
   "cell_type": "code",
   "execution_count": 162,
   "id": "a8d5d635-8bb1-46fb-a177-bdd5e61e86c5",
   "metadata": {},
   "outputs": [],
   "source": [
    "s.add(3)"
   ]
  },
  {
   "cell_type": "code",
   "execution_count": 164,
   "id": "88a5f681-1202-473b-bbdc-a40f125295fe",
   "metadata": {},
   "outputs": [
    {
     "data": {
      "text/plain": [
       "{1, 2, 3}"
      ]
     },
     "execution_count": 164,
     "metadata": {},
     "output_type": "execute_result"
    }
   ],
   "source": [
    "s"
   ]
  },
  {
   "cell_type": "code",
   "execution_count": null,
   "id": "662b1ca1-5fd2-4765-a638-801255bde8ab",
   "metadata": {},
   "outputs": [],
   "source": []
  },
  {
   "cell_type": "code",
   "execution_count": 166,
   "id": "9aa014d3-fa69-44d6-b230-3d6899ea9c0f",
   "metadata": {},
   "outputs": [
    {
     "data": {
      "text/plain": [
       "False"
      ]
     },
     "execution_count": 166,
     "metadata": {},
     "output_type": "execute_result"
    }
   ],
   "source": [
    "1 > 2"
   ]
  },
  {
   "cell_type": "code",
   "execution_count": 168,
   "id": "5aa3f689-d011-4cf1-bd0c-d97028b128b5",
   "metadata": {},
   "outputs": [
    {
     "data": {
      "text/plain": [
       "True"
      ]
     },
     "execution_count": 168,
     "metadata": {},
     "output_type": "execute_result"
    }
   ],
   "source": [
    "1 >= 1"
   ]
  },
  {
   "cell_type": "code",
   "execution_count": null,
   "id": "ec012104-054e-4cf7-9530-2b3b2cd8ca6d",
   "metadata": {},
   "outputs": [],
   "source": [
    "# == comparison operator = assignment aoperator"
   ]
  },
  {
   "cell_type": "code",
   "execution_count": 170,
   "id": "0695068e-412a-40f0-bf9f-42f73bd3132a",
   "metadata": {},
   "outputs": [
    {
     "data": {
      "text/plain": [
       "True"
      ]
     },
     "execution_count": 170,
     "metadata": {},
     "output_type": "execute_result"
    }
   ],
   "source": [
    "1 == 1"
   ]
  },
  {
   "cell_type": "code",
   "execution_count": 174,
   "id": "e901906b-f349-41aa-b12e-95b660faff33",
   "metadata": {},
   "outputs": [
    {
     "data": {
      "text/plain": [
       "True"
      ]
     },
     "execution_count": 174,
     "metadata": {},
     "output_type": "execute_result"
    }
   ],
   "source": [
    "1 != 3 "
   ]
  },
  {
   "cell_type": "code",
   "execution_count": 178,
   "id": "741c4ae2-8ec0-4ba7-b627-2497e380fba6",
   "metadata": {},
   "outputs": [
    {
     "data": {
      "text/plain": [
       "False"
      ]
     },
     "execution_count": 178,
     "metadata": {},
     "output_type": "execute_result"
    }
   ],
   "source": [
    "(1 < 2 )and (2 > 3)"
   ]
  },
  {
   "cell_type": "code",
   "execution_count": 182,
   "id": "6665fb11-698e-4f25-afd4-ae33167980a0",
   "metadata": {},
   "outputs": [
    {
     "data": {
      "text/plain": [
       "True"
      ]
     },
     "execution_count": 182,
     "metadata": {},
     "output_type": "execute_result"
    }
   ],
   "source": [
    "(1 < 2 ) or (2 > 3) or (1==1)"
   ]
  },
  {
   "cell_type": "code",
   "execution_count": null,
   "id": "bca063c9-3f26-457b-8f71-965c450360b7",
   "metadata": {},
   "outputs": [],
   "source": []
  },
  {
   "cell_type": "markdown",
   "id": "8d2e73a0-d76e-4a64-a4c0-7b2c6876b7cd",
   "metadata": {},
   "source": [
    "Condition Statements "
   ]
  },
  {
   "cell_type": "code",
   "execution_count": 184,
   "id": "970f991e-d4de-4ead-8af9-f57924b98f45",
   "metadata": {},
   "outputs": [
    {
     "name": "stdout",
     "output_type": "stream",
     "text": [
      "yep\n"
     ]
    }
   ],
   "source": [
    "if 1 < 2:\n",
    "    print('yep')"
   ]
  },
  {
   "cell_type": "code",
   "execution_count": 186,
   "id": "c38070c5-c8f7-4e92-94a5-431e486c529b",
   "metadata": {},
   "outputs": [
    {
     "name": "stdout",
     "output_type": "stream",
     "text": [
      "First\n"
     ]
    }
   ],
   "source": [
    "if 1!= 2:\n",
    "    print('First')\n",
    "elif 3 ==3:\n",
    "    print('Middle')\n",
    "else:\n",
    "    print('last')\n",
    "    "
   ]
  },
  {
   "cell_type": "code",
   "execution_count": null,
   "id": "c7943a1e-52bd-4595-a546-dfbe2d8b3f3d",
   "metadata": {},
   "outputs": [],
   "source": []
  }
 ],
 "metadata": {
  "kernelspec": {
   "display_name": "Python [conda env:base] *",
   "language": "python",
   "name": "conda-base-py"
  },
  "language_info": {
   "codemirror_mode": {
    "name": "ipython",
    "version": 3
   },
   "file_extension": ".py",
   "mimetype": "text/x-python",
   "name": "python",
   "nbconvert_exporter": "python",
   "pygments_lexer": "ipython3",
   "version": "3.12.7"
  }
 },
 "nbformat": 4,
 "nbformat_minor": 5
}
