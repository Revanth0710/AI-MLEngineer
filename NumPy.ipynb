{
  "nbformat": 4,
  "nbformat_minor": 0,
  "metadata": {
    "colab": {
      "provenance": [],
      "authorship_tag": "ABX9TyNOny0FJa5vzn9pdXs38439"
    },
    "kernelspec": {
      "name": "python3",
      "display_name": "Python 3"
    },
    "language_info": {
      "name": "python"
    }
  },
  "cells": [
    {
      "cell_type": "markdown",
      "source": [
        "#                      **NumPy**\n",
        "\n",
        "Array Handling:\n",
        "NumPy creates fast, powerful arrays (ndarray) for storing numbers efficiently.\n",
        "\n",
        "Mathematical Operations:\n",
        "It supports vectorized math — you can add, subtract, multiply arrays directly without loops.\n",
        "\n",
        "Dimensions:\n",
        "\n",
        "1D = Vector → [1, 2, 3]\n",
        "\n",
        "2D = Matrix → [[1, 2], [3, 4]]\n",
        "\n",
        "Supports 3D and more dimensions too!\n",
        "\n",
        "Broadcasting:\n",
        "Lets you automatically match array shapes for operations (small arrays stretch to fit big ones).\n",
        "\n",
        "Foundation Library:\n",
        "Most machine learning, AI, data science tools (like Pandas, TensorFlow) are built using NumPy.\n",
        "\n"
      ],
      "metadata": {
        "id": "zDPtlgMRlAEk"
      }
    },
    {
      "cell_type": "code",
      "source": [
        "my_list =[1,2,3,4]"
      ],
      "metadata": {
        "id": "ex5ArPnvmzq_"
      },
      "execution_count": 1,
      "outputs": []
    },
    {
      "cell_type": "code",
      "source": [
        "my_list"
      ],
      "metadata": {
        "colab": {
          "base_uri": "https://localhost:8080/"
        },
        "id": "Xzde38d0m5If",
        "outputId": "d1ca968c-fc88-4f35-85ff-a91ae727271d"
      },
      "execution_count": 2,
      "outputs": [
        {
          "output_type": "execute_result",
          "data": {
            "text/plain": [
              "[1, 2, 3, 4]"
            ]
          },
          "metadata": {},
          "execution_count": 2
        }
      ]
    },
    {
      "cell_type": "code",
      "execution_count": 3,
      "metadata": {
        "id": "tDk7Krvvk_Sm"
      },
      "outputs": [],
      "source": [
        "import numpy as np"
      ]
    },
    {
      "cell_type": "code",
      "source": [
        "arr = np.array(my_list)"
      ],
      "metadata": {
        "id": "KMUaqQR2mSbV"
      },
      "execution_count": 4,
      "outputs": []
    },
    {
      "cell_type": "code",
      "source": [
        "arr"
      ],
      "metadata": {
        "colab": {
          "base_uri": "https://localhost:8080/"
        },
        "id": "gTGVuvZpnBeI",
        "outputId": "be3d4a4a-2a32-4263-b3c9-513ac7d4c051"
      },
      "execution_count": 5,
      "outputs": [
        {
          "output_type": "execute_result",
          "data": {
            "text/plain": [
              "array([1, 2, 3, 4])"
            ]
          },
          "metadata": {},
          "execution_count": 5
        }
      ]
    },
    {
      "cell_type": "code",
      "source": [
        "# 2D array\n",
        "my_math = [[1,2,3], [4,5,6], [7,8,9]]"
      ],
      "metadata": {
        "id": "8wT8e4X5nDae"
      },
      "execution_count": 6,
      "outputs": []
    },
    {
      "cell_type": "code",
      "source": [
        "my_math"
      ],
      "metadata": {
        "colab": {
          "base_uri": "https://localhost:8080/"
        },
        "id": "bvtL1GBQnQlI",
        "outputId": "c0a9abd9-c80b-42e2-fec7-8d90232b5a4c"
      },
      "execution_count": 7,
      "outputs": [
        {
          "output_type": "execute_result",
          "data": {
            "text/plain": [
              "[[1, 2, 3], [4, 5, 6], [7, 8, 9]]"
            ]
          },
          "metadata": {},
          "execution_count": 7
        }
      ]
    },
    {
      "cell_type": "code",
      "source": [
        "np.array(my_math)"
      ],
      "metadata": {
        "colab": {
          "base_uri": "https://localhost:8080/"
        },
        "id": "jCIC6YzXnSKv",
        "outputId": "56effd7d-0430-43e2-f49d-499e8164380c"
      },
      "execution_count": 8,
      "outputs": [
        {
          "output_type": "execute_result",
          "data": {
            "text/plain": [
              "array([[1, 2, 3],\n",
              "       [4, 5, 6],\n",
              "       [7, 8, 9]])"
            ]
          },
          "metadata": {},
          "execution_count": 8
        }
      ]
    },
    {
      "cell_type": "code",
      "source": [
        "np.arange(0, 11, 2)"
      ],
      "metadata": {
        "colab": {
          "base_uri": "https://localhost:8080/"
        },
        "id": "tUW7ggRBnb49",
        "outputId": "275389fb-1816-4e3d-fceb-28f348d133df"
      },
      "execution_count": 9,
      "outputs": [
        {
          "output_type": "execute_result",
          "data": {
            "text/plain": [
              "array([ 0,  2,  4,  6,  8, 10])"
            ]
          },
          "metadata": {},
          "execution_count": 9
        }
      ]
    },
    {
      "cell_type": "markdown",
      "source": [
        "The np.arange() function in NumPy is used to generate a range of values in the form of a NumPy array. It creates an array of evenly spaced values based on the specified start, stop, and step parameters."
      ],
      "metadata": {
        "id": "RxefaFuPqjk5"
      }
    },
    {
      "cell_type": "code",
      "source": [
        "np.zeros(3)"
      ],
      "metadata": {
        "colab": {
          "base_uri": "https://localhost:8080/"
        },
        "id": "vFnE1apsqc9u",
        "outputId": "c4a28a5a-1c3c-44b4-c906-34c786ff59df"
      },
      "execution_count": 10,
      "outputs": [
        {
          "output_type": "execute_result",
          "data": {
            "text/plain": [
              "array([0., 0., 0.])"
            ]
          },
          "metadata": {},
          "execution_count": 10
        }
      ]
    },
    {
      "cell_type": "code",
      "source": [
        "np.zeros((2,3))"
      ],
      "metadata": {
        "colab": {
          "base_uri": "https://localhost:8080/"
        },
        "id": "x5eJ2AWyq4o2",
        "outputId": "7d256d40-64e3-4f5b-bddf-2b2a6edf89f6"
      },
      "execution_count": 11,
      "outputs": [
        {
          "output_type": "execute_result",
          "data": {
            "text/plain": [
              "array([[0., 0., 0.],\n",
              "       [0., 0., 0.]])"
            ]
          },
          "metadata": {},
          "execution_count": 11
        }
      ]
    },
    {
      "cell_type": "code",
      "source": [
        "np.ones(4)"
      ],
      "metadata": {
        "colab": {
          "base_uri": "https://localhost:8080/"
        },
        "id": "OGgs52rnrB-y",
        "outputId": "7660db28-03f8-48ae-990a-65a9c10eccc3"
      },
      "execution_count": 12,
      "outputs": [
        {
          "output_type": "execute_result",
          "data": {
            "text/plain": [
              "array([1., 1., 1., 1.])"
            ]
          },
          "metadata": {},
          "execution_count": 12
        }
      ]
    },
    {
      "cell_type": "code",
      "source": [
        "np.ones((3,4))"
      ],
      "metadata": {
        "colab": {
          "base_uri": "https://localhost:8080/"
        },
        "id": "mm3JGGyorFSy",
        "outputId": "d359b89d-bd21-49da-c12f-4c7a32f66868"
      },
      "execution_count": 13,
      "outputs": [
        {
          "output_type": "execute_result",
          "data": {
            "text/plain": [
              "array([[1., 1., 1., 1.],\n",
              "       [1., 1., 1., 1.],\n",
              "       [1., 1., 1., 1.]])"
            ]
          },
          "metadata": {},
          "execution_count": 13
        }
      ]
    },
    {
      "cell_type": "markdown",
      "source": [
        "The np.linspace() function in NumPy is used to generate an array of evenly spaced values over a specified range. Unlike np.arange(), which uses a step size to define the spacing between values, np.linspace() divides the interval into a specified number of equally spaced values."
      ],
      "metadata": {
        "id": "YypG6sldsed3"
      }
    },
    {
      "cell_type": "code",
      "source": [
        "np.linspace(0,5,100)"
      ],
      "metadata": {
        "colab": {
          "base_uri": "https://localhost:8080/"
        },
        "id": "P1kqhzQyrI3V",
        "outputId": "23390209-e5d9-431b-88fb-fc19a4e42210"
      },
      "execution_count": 14,
      "outputs": [
        {
          "output_type": "execute_result",
          "data": {
            "text/plain": [
              "array([0.        , 0.05050505, 0.1010101 , 0.15151515, 0.2020202 ,\n",
              "       0.25252525, 0.3030303 , 0.35353535, 0.4040404 , 0.45454545,\n",
              "       0.50505051, 0.55555556, 0.60606061, 0.65656566, 0.70707071,\n",
              "       0.75757576, 0.80808081, 0.85858586, 0.90909091, 0.95959596,\n",
              "       1.01010101, 1.06060606, 1.11111111, 1.16161616, 1.21212121,\n",
              "       1.26262626, 1.31313131, 1.36363636, 1.41414141, 1.46464646,\n",
              "       1.51515152, 1.56565657, 1.61616162, 1.66666667, 1.71717172,\n",
              "       1.76767677, 1.81818182, 1.86868687, 1.91919192, 1.96969697,\n",
              "       2.02020202, 2.07070707, 2.12121212, 2.17171717, 2.22222222,\n",
              "       2.27272727, 2.32323232, 2.37373737, 2.42424242, 2.47474747,\n",
              "       2.52525253, 2.57575758, 2.62626263, 2.67676768, 2.72727273,\n",
              "       2.77777778, 2.82828283, 2.87878788, 2.92929293, 2.97979798,\n",
              "       3.03030303, 3.08080808, 3.13131313, 3.18181818, 3.23232323,\n",
              "       3.28282828, 3.33333333, 3.38383838, 3.43434343, 3.48484848,\n",
              "       3.53535354, 3.58585859, 3.63636364, 3.68686869, 3.73737374,\n",
              "       3.78787879, 3.83838384, 3.88888889, 3.93939394, 3.98989899,\n",
              "       4.04040404, 4.09090909, 4.14141414, 4.19191919, 4.24242424,\n",
              "       4.29292929, 4.34343434, 4.39393939, 4.44444444, 4.49494949,\n",
              "       4.54545455, 4.5959596 , 4.64646465, 4.6969697 , 4.74747475,\n",
              "       4.7979798 , 4.84848485, 4.8989899 , 4.94949495, 5.        ])"
            ]
          },
          "metadata": {},
          "execution_count": 14
        }
      ]
    },
    {
      "cell_type": "markdown",
      "source": [
        "The np.eye() function in NumPy is used to create a 2D array (matrix) with ones on the diagonal and zeros elsewhere. This is known as an identity matrix."
      ],
      "metadata": {
        "id": "ZM04ThB0s-mV"
      }
    },
    {
      "cell_type": "code",
      "source": [
        "np.eye(4)"
      ],
      "metadata": {
        "colab": {
          "base_uri": "https://localhost:8080/"
        },
        "id": "HV_PXEhNr8RR",
        "outputId": "7967ae9a-ae63-4046-d4eb-7bdd773c5112"
      },
      "execution_count": 15,
      "outputs": [
        {
          "output_type": "execute_result",
          "data": {
            "text/plain": [
              "array([[1., 0., 0., 0.],\n",
              "       [0., 1., 0., 0.],\n",
              "       [0., 0., 1., 0.],\n",
              "       [0., 0., 0., 1.]])"
            ]
          },
          "metadata": {},
          "execution_count": 15
        }
      ]
    },
    {
      "cell_type": "code",
      "source": [
        "np.random.rand(5)"
      ],
      "metadata": {
        "colab": {
          "base_uri": "https://localhost:8080/"
        },
        "id": "Xjoj23IUs197",
        "outputId": "240b47b5-1d9d-43bf-eb84-11a9b93a325e"
      },
      "execution_count": 16,
      "outputs": [
        {
          "output_type": "execute_result",
          "data": {
            "text/plain": [
              "array([0.15830182, 0.21032361, 0.73081889, 0.63071708, 0.74175868])"
            ]
          },
          "metadata": {},
          "execution_count": 16
        }
      ]
    },
    {
      "cell_type": "markdown",
      "source": [
        "The np.random.rand() function in NumPy is used to generate an array of random numbers drawn from a uniform distribution over the interval [0, 1). The shape of the array is specified by passing the dimensions as arguments.\n"
      ],
      "metadata": {
        "id": "vKMv-emrtmRs"
      }
    },
    {
      "cell_type": "code",
      "source": [
        "np.random.rand(5,5)"
      ],
      "metadata": {
        "colab": {
          "base_uri": "https://localhost:8080/"
        },
        "id": "hFliUZzgtQuB",
        "outputId": "c061c539-58b2-4a0c-90b9-6e072b855c43"
      },
      "execution_count": 17,
      "outputs": [
        {
          "output_type": "execute_result",
          "data": {
            "text/plain": [
              "array([[0.18281116, 0.58622783, 0.24902826, 0.80863473, 0.14278174],\n",
              "       [0.33926579, 0.58056131, 0.62077238, 0.34848492, 0.40333994],\n",
              "       [0.19352946, 0.59801858, 0.85138661, 0.92710147, 0.43856703],\n",
              "       [0.63287751, 0.59328481, 0.33416304, 0.15122323, 0.3169385 ],\n",
              "       [0.98833139, 0.53510837, 0.75853445, 0.81765914, 0.54824145]])"
            ]
          },
          "metadata": {},
          "execution_count": 17
        }
      ]
    },
    {
      "cell_type": "markdown",
      "source": [
        "np.random.randn() generates numbers from a normal (Gaussian) distribution with a mean of 0 and standard deviation of 1.\n"
      ],
      "metadata": {
        "id": "J4GXHmbNt-vE"
      }
    },
    {
      "cell_type": "code",
      "source": [
        "np.random.randn(4,4)"
      ],
      "metadata": {
        "colab": {
          "base_uri": "https://localhost:8080/"
        },
        "id": "OFk8bwI-tVXt",
        "outputId": "46ee8dcf-c267-4281-c1c1-4ee98f6dd652"
      },
      "execution_count": 18,
      "outputs": [
        {
          "output_type": "execute_result",
          "data": {
            "text/plain": [
              "array([[ 1.11254189, -1.91073004,  0.63283881,  0.46917289],\n",
              "       [-0.00641353, -1.45269426,  0.29058625, -2.10493215],\n",
              "       [-0.73142599, -0.40201221, -0.02875653,  1.12528226],\n",
              "       [ 0.70099975, -0.96905655,  0.69832843,  0.07365726]])"
            ]
          },
          "metadata": {},
          "execution_count": 18
        }
      ]
    },
    {
      "cell_type": "markdown",
      "source": [
        "The np.random.randint() function in NumPy is used to generate random integers within a specified range. You can specify the low (inclusive) and high (exclusive) bounds, as well as the size of the output array.\n"
      ],
      "metadata": {
        "id": "B-778PMWurJS"
      }
    },
    {
      "cell_type": "code",
      "source": [
        "np.random.randint(1,100, 10)"
      ],
      "metadata": {
        "colab": {
          "base_uri": "https://localhost:8080/"
        },
        "id": "q8LL8jUVtudv",
        "outputId": "f4b5bad4-3f77-4235-d975-8a738c24dd67"
      },
      "execution_count": 19,
      "outputs": [
        {
          "output_type": "execute_result",
          "data": {
            "text/plain": [
              "array([65, 80, 93, 84, 85, 61,  8, 49, 48, 74])"
            ]
          },
          "metadata": {},
          "execution_count": 19
        }
      ]
    },
    {
      "cell_type": "code",
      "source": [],
      "metadata": {
        "id": "4yi0rZj-u5qI"
      },
      "execution_count": 19,
      "outputs": []
    },
    {
      "cell_type": "code",
      "source": [
        "arr = np.arange(25)"
      ],
      "metadata": {
        "id": "RHXLekL6ulM2"
      },
      "execution_count": 20,
      "outputs": []
    },
    {
      "cell_type": "code",
      "source": [
        "arr"
      ],
      "metadata": {
        "colab": {
          "base_uri": "https://localhost:8080/"
        },
        "id": "Jwd_7Ezyu-ps",
        "outputId": "7ff292f0-c732-45d7-c58f-a1fd78a13647"
      },
      "execution_count": 21,
      "outputs": [
        {
          "output_type": "execute_result",
          "data": {
            "text/plain": [
              "array([ 0,  1,  2,  3,  4,  5,  6,  7,  8,  9, 10, 11, 12, 13, 14, 15, 16,\n",
              "       17, 18, 19, 20, 21, 22, 23, 24])"
            ]
          },
          "metadata": {},
          "execution_count": 21
        }
      ]
    },
    {
      "cell_type": "code",
      "source": [
        "ranarr = np.random.randint(1,50,10)"
      ],
      "metadata": {
        "id": "xXIaT6I-vBNr"
      },
      "execution_count": 22,
      "outputs": []
    },
    {
      "cell_type": "code",
      "source": [
        "ranarr"
      ],
      "metadata": {
        "colab": {
          "base_uri": "https://localhost:8080/"
        },
        "id": "lEgjiaNvvMeT",
        "outputId": "cdc7f6e6-3177-40b0-ef12-b022a5fabbeb"
      },
      "execution_count": 23,
      "outputs": [
        {
          "output_type": "execute_result",
          "data": {
            "text/plain": [
              "array([39, 48,  3, 33, 18, 18, 39,  5, 23, 39])"
            ]
          },
          "metadata": {},
          "execution_count": 23
        }
      ]
    },
    {
      "cell_type": "code",
      "source": [
        "ranarr.max()"
      ],
      "metadata": {
        "colab": {
          "base_uri": "https://localhost:8080/"
        },
        "id": "H2FUZeV8vu3t",
        "outputId": "e090557c-b2b2-41af-dbf8-070359992a8d"
      },
      "execution_count": 24,
      "outputs": [
        {
          "output_type": "execute_result",
          "data": {
            "text/plain": [
              "np.int64(48)"
            ]
          },
          "metadata": {},
          "execution_count": 24
        }
      ]
    },
    {
      "cell_type": "code",
      "source": [
        "ranarr.min()"
      ],
      "metadata": {
        "colab": {
          "base_uri": "https://localhost:8080/"
        },
        "id": "37eOehVjwEDn",
        "outputId": "efeac7cc-5d05-479d-fec2-35849c0b9624"
      },
      "execution_count": 25,
      "outputs": [
        {
          "output_type": "execute_result",
          "data": {
            "text/plain": [
              "np.int64(3)"
            ]
          },
          "metadata": {},
          "execution_count": 25
        }
      ]
    },
    {
      "cell_type": "code",
      "source": [
        "ranarr.argmax()"
      ],
      "metadata": {
        "colab": {
          "base_uri": "https://localhost:8080/"
        },
        "id": "1CyKm5-ewDyt",
        "outputId": "0720e8e9-6fa1-43c1-9468-1e1b3e5b1c13"
      },
      "execution_count": 26,
      "outputs": [
        {
          "output_type": "execute_result",
          "data": {
            "text/plain": [
              "np.int64(1)"
            ]
          },
          "metadata": {},
          "execution_count": 26
        }
      ]
    },
    {
      "cell_type": "code",
      "source": [
        "ranarr.argmax()"
      ],
      "metadata": {
        "colab": {
          "base_uri": "https://localhost:8080/"
        },
        "id": "6iTUp9pzwNvs",
        "outputId": "0ef02796-0189-4205-eeaa-8cfd032030d4"
      },
      "execution_count": 27,
      "outputs": [
        {
          "output_type": "execute_result",
          "data": {
            "text/plain": [
              "np.int64(1)"
            ]
          },
          "metadata": {},
          "execution_count": 27
        }
      ]
    },
    {
      "cell_type": "code",
      "source": [],
      "metadata": {
        "id": "kClb02oHwRGh"
      },
      "execution_count": 27,
      "outputs": []
    },
    {
      "cell_type": "markdown",
      "source": [
        "The total number of elements in the original array must match the total number of elements in the reshaped array.\n",
        "\n",
        "Reshaping does not change the data of the array; it simply changes its view."
      ],
      "metadata": {
        "id": "sVPy_-WBvvr-"
      }
    },
    {
      "cell_type": "code",
      "source": [
        "arr .reshape(5,5)"
      ],
      "metadata": {
        "colab": {
          "base_uri": "https://localhost:8080/"
        },
        "id": "5dyiR3mfvPMX",
        "outputId": "60d60788-f4b3-4320-d08b-abf26c091a07"
      },
      "execution_count": 28,
      "outputs": [
        {
          "output_type": "execute_result",
          "data": {
            "text/plain": [
              "array([[ 0,  1,  2,  3,  4],\n",
              "       [ 5,  6,  7,  8,  9],\n",
              "       [10, 11, 12, 13, 14],\n",
              "       [15, 16, 17, 18, 19],\n",
              "       [20, 21, 22, 23, 24]])"
            ]
          },
          "metadata": {},
          "execution_count": 28
        }
      ]
    },
    {
      "cell_type": "code",
      "source": [
        "arr = arr.reshape(5,5)"
      ],
      "metadata": {
        "id": "z_y2T4wavbL6"
      },
      "execution_count": 29,
      "outputs": []
    },
    {
      "cell_type": "code",
      "source": [
        "arr.shape"
      ],
      "metadata": {
        "colab": {
          "base_uri": "https://localhost:8080/"
        },
        "id": "K250qkwpweOj",
        "outputId": "f38746f7-26f2-46cd-c8f8-999237bc444a"
      },
      "execution_count": 30,
      "outputs": [
        {
          "output_type": "execute_result",
          "data": {
            "text/plain": [
              "(5, 5)"
            ]
          },
          "metadata": {},
          "execution_count": 30
        }
      ]
    },
    {
      "cell_type": "code",
      "source": [
        "arr.dtype"
      ],
      "metadata": {
        "colab": {
          "base_uri": "https://localhost:8080/"
        },
        "id": "xooWgq_IvwYR",
        "outputId": "08eaf74d-f736-43a9-ffd8-5c8a48a1a2e3"
      },
      "execution_count": 31,
      "outputs": [
        {
          "output_type": "execute_result",
          "data": {
            "text/plain": [
              "dtype('int64')"
            ]
          },
          "metadata": {},
          "execution_count": 31
        }
      ]
    },
    {
      "cell_type": "code",
      "source": [
        "from numpy.random import randint"
      ],
      "metadata": {
        "id": "F8vwviWFwnuu"
      },
      "execution_count": 32,
      "outputs": []
    },
    {
      "cell_type": "code",
      "source": [
        "randint(2,10)"
      ],
      "metadata": {
        "colab": {
          "base_uri": "https://localhost:8080/"
        },
        "id": "G8W3ejePw3Yu",
        "outputId": "50082978-e2ec-46f2-f1a6-6e6503e955f1"
      },
      "execution_count": 33,
      "outputs": [
        {
          "output_type": "execute_result",
          "data": {
            "text/plain": [
              "8"
            ]
          },
          "metadata": {},
          "execution_count": 33
        }
      ]
    },
    {
      "cell_type": "code",
      "source": [],
      "metadata": {
        "id": "xrFb7pEGw6xl"
      },
      "execution_count": 33,
      "outputs": []
    },
    {
      "cell_type": "markdown",
      "source": [
        "# NumPy Indexing and Selection\n"
      ],
      "metadata": {
        "id": "ZiaAsLuDjpSM"
      }
    },
    {
      "cell_type": "code",
      "source": [
        "import numpy as np"
      ],
      "metadata": {
        "id": "ZOrVf9aTjy5T"
      },
      "execution_count": 34,
      "outputs": []
    },
    {
      "cell_type": "code",
      "source": [
        "arr = np.arange(0,11)"
      ],
      "metadata": {
        "id": "1ilSrDS6kW82"
      },
      "execution_count": 35,
      "outputs": []
    },
    {
      "cell_type": "code",
      "source": [
        "arr"
      ],
      "metadata": {
        "colab": {
          "base_uri": "https://localhost:8080/"
        },
        "id": "0QfAdvlmj994",
        "outputId": "7dbb208e-da70-4628-a506-128767a46215"
      },
      "execution_count": 36,
      "outputs": [
        {
          "output_type": "execute_result",
          "data": {
            "text/plain": [
              "array([ 0,  1,  2,  3,  4,  5,  6,  7,  8,  9, 10])"
            ]
          },
          "metadata": {},
          "execution_count": 36
        }
      ]
    },
    {
      "cell_type": "code",
      "source": [
        "print(arr[9])"
      ],
      "metadata": {
        "colab": {
          "base_uri": "https://localhost:8080/"
        },
        "id": "D4rlO5s6kElQ",
        "outputId": "81be7aeb-3801-40d6-f836-2ac704ac0630"
      },
      "execution_count": 38,
      "outputs": [
        {
          "output_type": "stream",
          "name": "stdout",
          "text": [
            "9\n"
          ]
        }
      ]
    },
    {
      "cell_type": "code",
      "source": [
        "arr[1:5]"
      ],
      "metadata": {
        "colab": {
          "base_uri": "https://localhost:8080/"
        },
        "id": "-bMwWzEIkL6r",
        "outputId": "55220bcc-bfcb-470a-e7c8-e95063e2200f"
      },
      "execution_count": 39,
      "outputs": [
        {
          "output_type": "execute_result",
          "data": {
            "text/plain": [
              "array([1, 2, 3, 4])"
            ]
          },
          "metadata": {},
          "execution_count": 39
        }
      ]
    },
    {
      "cell_type": "code",
      "source": [
        "arr[0:]"
      ],
      "metadata": {
        "colab": {
          "base_uri": "https://localhost:8080/"
        },
        "id": "l6BpJ2XNlBkl",
        "outputId": "0b2f722f-fd1f-4226-ff2c-6c3c281a6da0"
      },
      "execution_count": 40,
      "outputs": [
        {
          "output_type": "execute_result",
          "data": {
            "text/plain": [
              "array([ 0,  1,  2,  3,  4,  5,  6,  7,  8,  9, 10])"
            ]
          },
          "metadata": {},
          "execution_count": 40
        }
      ]
    },
    {
      "cell_type": "code",
      "source": [
        "arr[:6]"
      ],
      "metadata": {
        "colab": {
          "base_uri": "https://localhost:8080/"
        },
        "id": "bKQVjdlklJ86",
        "outputId": "8460a7a8-9947-4add-9515-6dd2e6091805"
      },
      "execution_count": 41,
      "outputs": [
        {
          "output_type": "execute_result",
          "data": {
            "text/plain": [
              "array([0, 1, 2, 3, 4, 5])"
            ]
          },
          "metadata": {},
          "execution_count": 41
        }
      ]
    },
    {
      "cell_type": "code",
      "source": [
        "arr[::-1]"
      ],
      "metadata": {
        "colab": {
          "base_uri": "https://localhost:8080/"
        },
        "id": "uJ68JfYmlNQZ",
        "outputId": "4816eb46-547a-4fd9-8c81-fd52b2642ea6"
      },
      "execution_count": 42,
      "outputs": [
        {
          "output_type": "execute_result",
          "data": {
            "text/plain": [
              "array([10,  9,  8,  7,  6,  5,  4,  3,  2,  1,  0])"
            ]
          },
          "metadata": {},
          "execution_count": 42
        }
      ]
    },
    {
      "cell_type": "code",
      "source": [
        "arr[0:5] = 100"
      ],
      "metadata": {
        "id": "XYFWJklBlPlP"
      },
      "execution_count": 43,
      "outputs": []
    },
    {
      "cell_type": "code",
      "source": [
        "arr"
      ],
      "metadata": {
        "colab": {
          "base_uri": "https://localhost:8080/"
        },
        "id": "CfCvpebklkGH",
        "outputId": "3d85a412-1de5-414b-f43a-f46509a27bb4"
      },
      "execution_count": 44,
      "outputs": [
        {
          "output_type": "execute_result",
          "data": {
            "text/plain": [
              "array([100, 100, 100, 100, 100,   5,   6,   7,   8,   9,  10])"
            ]
          },
          "metadata": {},
          "execution_count": 44
        }
      ]
    },
    {
      "cell_type": "code",
      "source": [],
      "metadata": {
        "id": "WV7KOyiAlkpG"
      },
      "execution_count": null,
      "outputs": []
    },
    {
      "cell_type": "code",
      "source": [
        "arr = np.arange(0,11)"
      ],
      "metadata": {
        "id": "IAvsJr9_l8my"
      },
      "execution_count": 45,
      "outputs": []
    },
    {
      "cell_type": "code",
      "source": [
        "arr"
      ],
      "metadata": {
        "colab": {
          "base_uri": "https://localhost:8080/"
        },
        "id": "yS9u_jMkl-72",
        "outputId": "2e9b50bd-8298-41f7-cf98-d2b1fb3c6a01"
      },
      "execution_count": 46,
      "outputs": [
        {
          "output_type": "execute_result",
          "data": {
            "text/plain": [
              "array([ 0,  1,  2,  3,  4,  5,  6,  7,  8,  9, 10])"
            ]
          },
          "metadata": {},
          "execution_count": 46
        }
      ]
    },
    {
      "cell_type": "code",
      "source": [
        "slice_array = arr[:6]"
      ],
      "metadata": {
        "id": "faFxEKvkl_Y1"
      },
      "execution_count": 47,
      "outputs": []
    },
    {
      "cell_type": "code",
      "source": [
        "slice_array"
      ],
      "metadata": {
        "colab": {
          "base_uri": "https://localhost:8080/"
        },
        "id": "wfA5E98smDlO",
        "outputId": "8ac57425-b0ce-4fc6-ea29-f220cefe3cdb"
      },
      "execution_count": 48,
      "outputs": [
        {
          "output_type": "execute_result",
          "data": {
            "text/plain": [
              "array([0, 1, 2, 3, 4, 5])"
            ]
          },
          "metadata": {},
          "execution_count": 48
        }
      ]
    },
    {
      "cell_type": "code",
      "source": [
        "slice_array[:] = 99"
      ],
      "metadata": {
        "id": "kejw-x1FmEpp"
      },
      "execution_count": 49,
      "outputs": []
    },
    {
      "cell_type": "code",
      "source": [
        "slice_array"
      ],
      "metadata": {
        "colab": {
          "base_uri": "https://localhost:8080/"
        },
        "id": "jP6cUtnrmHQg",
        "outputId": "96fb2a57-b778-46ff-f207-a946c1d7c2dd"
      },
      "execution_count": 50,
      "outputs": [
        {
          "output_type": "execute_result",
          "data": {
            "text/plain": [
              "array([99, 99, 99, 99, 99, 99])"
            ]
          },
          "metadata": {},
          "execution_count": 50
        }
      ]
    },
    {
      "cell_type": "code",
      "source": [
        "arr"
      ],
      "metadata": {
        "colab": {
          "base_uri": "https://localhost:8080/"
        },
        "id": "swcCYCNsmISL",
        "outputId": "00a351b3-5f07-46e0-dbd7-4a2a627f8800"
      },
      "execution_count": 51,
      "outputs": [
        {
          "output_type": "execute_result",
          "data": {
            "text/plain": [
              "array([99, 99, 99, 99, 99, 99,  6,  7,  8,  9, 10])"
            ]
          },
          "metadata": {},
          "execution_count": 51
        }
      ]
    },
    {
      "cell_type": "markdown",
      "source": [
        "Creates a view of the original array — not a separate copy.\n",
        "\n",
        "The slice shares the same memory as the original array.\n",
        "\n",
        "Changing the slice will affect the original array (unless you explicitly copy it)."
      ],
      "metadata": {
        "id": "sFVq-AQpm1vg"
      }
    },
    {
      "cell_type": "code",
      "source": [
        "arr_copy = arr.copy()"
      ],
      "metadata": {
        "id": "Lk-BJ9hMmKd5"
      },
      "execution_count": 52,
      "outputs": []
    },
    {
      "cell_type": "code",
      "source": [
        "arr"
      ],
      "metadata": {
        "colab": {
          "base_uri": "https://localhost:8080/"
        },
        "id": "b4zvcFhIm8hA",
        "outputId": "001ffbf5-1668-43a2-b55b-288f62708868"
      },
      "execution_count": 53,
      "outputs": [
        {
          "output_type": "execute_result",
          "data": {
            "text/plain": [
              "array([99, 99, 99, 99, 99, 99,  6,  7,  8,  9, 10])"
            ]
          },
          "metadata": {},
          "execution_count": 53
        }
      ]
    },
    {
      "cell_type": "code",
      "source": [
        "arr_copy"
      ],
      "metadata": {
        "colab": {
          "base_uri": "https://localhost:8080/"
        },
        "id": "h6KHKhcrm-hw",
        "outputId": "b1020fe9-8d5a-48f4-94e1-890e4b337228"
      },
      "execution_count": 54,
      "outputs": [
        {
          "output_type": "execute_result",
          "data": {
            "text/plain": [
              "array([99, 99, 99, 99, 99, 99,  6,  7,  8,  9, 10])"
            ]
          },
          "metadata": {},
          "execution_count": 54
        }
      ]
    },
    {
      "cell_type": "code",
      "source": [
        "arr_copy[:] = 100"
      ],
      "metadata": {
        "id": "45LZ9r7sm_w5"
      },
      "execution_count": 55,
      "outputs": []
    },
    {
      "cell_type": "code",
      "source": [
        "arr_copy"
      ],
      "metadata": {
        "colab": {
          "base_uri": "https://localhost:8080/"
        },
        "id": "vPLH90Q0nEfx",
        "outputId": "f93b4136-86ed-4786-a41b-db9537d20117"
      },
      "execution_count": 56,
      "outputs": [
        {
          "output_type": "execute_result",
          "data": {
            "text/plain": [
              "array([100, 100, 100, 100, 100, 100, 100, 100, 100, 100, 100])"
            ]
          },
          "metadata": {},
          "execution_count": 56
        }
      ]
    },
    {
      "cell_type": "code",
      "source": [
        "arr"
      ],
      "metadata": {
        "colab": {
          "base_uri": "https://localhost:8080/"
        },
        "id": "SzjXN11snFbS",
        "outputId": "1f49ac38-f7c4-46d6-dcca-5904a371cc8c"
      },
      "execution_count": 57,
      "outputs": [
        {
          "output_type": "execute_result",
          "data": {
            "text/plain": [
              "array([99, 99, 99, 99, 99, 99,  6,  7,  8,  9, 10])"
            ]
          },
          "metadata": {},
          "execution_count": 57
        }
      ]
    },
    {
      "cell_type": "code",
      "source": [],
      "metadata": {
        "id": "JxdDC0ylnHUR"
      },
      "execution_count": null,
      "outputs": []
    },
    {
      "cell_type": "code",
      "source": [
        "arr_2d = np.array([[5,10,15],[20,25,30], [35,40,45]])"
      ],
      "metadata": {
        "id": "XQrIc2MmnNXx"
      },
      "execution_count": 58,
      "outputs": []
    },
    {
      "cell_type": "code",
      "source": [
        "arr_2d"
      ],
      "metadata": {
        "colab": {
          "base_uri": "https://localhost:8080/"
        },
        "id": "3WJ50g_MnYgh",
        "outputId": "97693a19-ee36-4c5e-e609-dfffc7b51fbd"
      },
      "execution_count": 59,
      "outputs": [
        {
          "output_type": "execute_result",
          "data": {
            "text/plain": [
              "array([[ 5, 10, 15],\n",
              "       [20, 25, 30],\n",
              "       [35, 40, 45]])"
            ]
          },
          "metadata": {},
          "execution_count": 59
        }
      ]
    },
    {
      "cell_type": "code",
      "source": [
        "print(arr_2d[2,2])"
      ],
      "metadata": {
        "colab": {
          "base_uri": "https://localhost:8080/"
        },
        "id": "8SXA0cvCngkG",
        "outputId": "455a059e-689a-48ae-a5a4-732dcefa15dc"
      },
      "execution_count": 65,
      "outputs": [
        {
          "output_type": "stream",
          "name": "stdout",
          "text": [
            "45\n"
          ]
        }
      ]
    },
    {
      "cell_type": "code",
      "source": [
        "print(arr_2d[2][2])"
      ],
      "metadata": {
        "colab": {
          "base_uri": "https://localhost:8080/"
        },
        "id": "PSk_pMO2nn-c",
        "outputId": "5d0121dc-e79d-4261-e8bb-c16223a13b19"
      },
      "execution_count": 66,
      "outputs": [
        {
          "output_type": "stream",
          "name": "stdout",
          "text": [
            "45\n"
          ]
        }
      ]
    },
    {
      "cell_type": "code",
      "source": [
        "arr_2d[:2]"
      ],
      "metadata": {
        "colab": {
          "base_uri": "https://localhost:8080/"
        },
        "id": "AqPpdnJVoqd3",
        "outputId": "f421f067-e199-471f-b0df-5700e2f3fd80"
      },
      "execution_count": 70,
      "outputs": [
        {
          "output_type": "execute_result",
          "data": {
            "text/plain": [
              "array([[ 5, 10, 15],\n",
              "       [20, 25, 30]])"
            ]
          },
          "metadata": {},
          "execution_count": 70
        }
      ]
    },
    {
      "cell_type": "code",
      "source": [
        "arr_2d[:2,2:]"
      ],
      "metadata": {
        "colab": {
          "base_uri": "https://localhost:8080/"
        },
        "id": "-JSMngFFn801",
        "outputId": "c28588a5-1e66-4e92-e212-b6cb4f309c02"
      },
      "execution_count": 71,
      "outputs": [
        {
          "output_type": "execute_result",
          "data": {
            "text/plain": [
              "array([[15],\n",
              "       [30]])"
            ]
          },
          "metadata": {},
          "execution_count": 71
        }
      ]
    },
    {
      "cell_type": "code",
      "source": [
        "arr_2d[1:,1:]"
      ],
      "metadata": {
        "colab": {
          "base_uri": "https://localhost:8080/"
        },
        "id": "8pA18jrnoaXI",
        "outputId": "0438a380-7e8b-4068-9e7d-90bb96a3c4af"
      },
      "execution_count": 72,
      "outputs": [
        {
          "output_type": "execute_result",
          "data": {
            "text/plain": [
              "array([[25, 30],\n",
              "       [40, 45]])"
            ]
          },
          "metadata": {},
          "execution_count": 72
        }
      ]
    },
    {
      "cell_type": "code",
      "source": [],
      "metadata": {
        "id": "gPmLpRRpo-hY"
      },
      "execution_count": null,
      "outputs": []
    },
    {
      "cell_type": "code",
      "source": [
        "arr = np.arange(1,11)"
      ],
      "metadata": {
        "id": "Ea8oYI5VpJYw"
      },
      "execution_count": 73,
      "outputs": []
    },
    {
      "cell_type": "code",
      "source": [
        "arr"
      ],
      "metadata": {
        "colab": {
          "base_uri": "https://localhost:8080/"
        },
        "id": "LXOInLsipOgI",
        "outputId": "a888164e-eda6-4910-d4f0-00cced4aa451"
      },
      "execution_count": 74,
      "outputs": [
        {
          "output_type": "execute_result",
          "data": {
            "text/plain": [
              "array([ 1,  2,  3,  4,  5,  6,  7,  8,  9, 10])"
            ]
          },
          "metadata": {},
          "execution_count": 74
        }
      ]
    },
    {
      "cell_type": "code",
      "source": [
        "bool_arr = arr> 5"
      ],
      "metadata": {
        "id": "BCc_aTVipPc0"
      },
      "execution_count": 76,
      "outputs": []
    },
    {
      "cell_type": "code",
      "source": [
        "bool_arr"
      ],
      "metadata": {
        "colab": {
          "base_uri": "https://localhost:8080/"
        },
        "id": "xm9sIP9UpWfH",
        "outputId": "de3c2f54-75cd-48e4-9d5d-c7ff6c17645b"
      },
      "execution_count": 77,
      "outputs": [
        {
          "output_type": "execute_result",
          "data": {
            "text/plain": [
              "array([False, False, False, False, False,  True,  True,  True,  True,\n",
              "        True])"
            ]
          },
          "metadata": {},
          "execution_count": 77
        }
      ]
    },
    {
      "cell_type": "markdown",
      "source": [
        "Conditional Selection"
      ],
      "metadata": {
        "id": "E-YenfQupj7a"
      }
    },
    {
      "cell_type": "code",
      "source": [
        "arr[bool_arr]"
      ],
      "metadata": {
        "colab": {
          "base_uri": "https://localhost:8080/"
        },
        "id": "kKpREf4TpjYg",
        "outputId": "9796a2c8-3caf-4228-e77e-3d232d70db82"
      },
      "execution_count": 78,
      "outputs": [
        {
          "output_type": "execute_result",
          "data": {
            "text/plain": [
              "array([ 6,  7,  8,  9, 10])"
            ]
          },
          "metadata": {},
          "execution_count": 78
        }
      ]
    },
    {
      "cell_type": "code",
      "source": [
        "arr[arr>5]"
      ],
      "metadata": {
        "colab": {
          "base_uri": "https://localhost:8080/"
        },
        "id": "CBG_OUeWpd0q",
        "outputId": "b7093dca-7be1-4c87-cfc6-d33d5a19613c"
      },
      "execution_count": 79,
      "outputs": [
        {
          "output_type": "execute_result",
          "data": {
            "text/plain": [
              "array([ 6,  7,  8,  9, 10])"
            ]
          },
          "metadata": {},
          "execution_count": 79
        }
      ]
    },
    {
      "cell_type": "code",
      "source": [
        "arr[arr<3]"
      ],
      "metadata": {
        "colab": {
          "base_uri": "https://localhost:8080/"
        },
        "id": "RJWiptNZpu3I",
        "outputId": "c4c1d83c-1ff7-4acd-871e-a96c6924c6c6"
      },
      "execution_count": 80,
      "outputs": [
        {
          "output_type": "execute_result",
          "data": {
            "text/plain": [
              "array([1, 2])"
            ]
          },
          "metadata": {},
          "execution_count": 80
        }
      ]
    },
    {
      "cell_type": "code",
      "source": [],
      "metadata": {
        "id": "Q5Mrd96mpxLs"
      },
      "execution_count": null,
      "outputs": []
    },
    {
      "cell_type": "code",
      "source": [
        "arr_2d = np.arange(50).reshape(5,10)"
      ],
      "metadata": {
        "id": "W7gJ-XtUp4FA"
      },
      "execution_count": 81,
      "outputs": []
    },
    {
      "cell_type": "code",
      "source": [
        "arr_2d"
      ],
      "metadata": {
        "colab": {
          "base_uri": "https://localhost:8080/"
        },
        "id": "Y27EFtb_p_0S",
        "outputId": "e0d7fff7-0182-4b15-b2fd-5667fedefc40"
      },
      "execution_count": 82,
      "outputs": [
        {
          "output_type": "execute_result",
          "data": {
            "text/plain": [
              "array([[ 0,  1,  2,  3,  4,  5,  6,  7,  8,  9],\n",
              "       [10, 11, 12, 13, 14, 15, 16, 17, 18, 19],\n",
              "       [20, 21, 22, 23, 24, 25, 26, 27, 28, 29],\n",
              "       [30, 31, 32, 33, 34, 35, 36, 37, 38, 39],\n",
              "       [40, 41, 42, 43, 44, 45, 46, 47, 48, 49]])"
            ]
          },
          "metadata": {},
          "execution_count": 82
        }
      ]
    },
    {
      "cell_type": "code",
      "source": [
        "arr_2d[1:3,2:4]"
      ],
      "metadata": {
        "colab": {
          "base_uri": "https://localhost:8080/"
        },
        "id": "xVEnCLWkqAsf",
        "outputId": "08a59ea3-a904-417b-fef3-4e29b41723c5"
      },
      "execution_count": 85,
      "outputs": [
        {
          "output_type": "execute_result",
          "data": {
            "text/plain": [
              "array([[12, 13],\n",
              "       [22, 23]])"
            ]
          },
          "metadata": {},
          "execution_count": 85
        }
      ]
    },
    {
      "cell_type": "code",
      "source": [],
      "metadata": {
        "id": "tat4fnZKqXHg"
      },
      "execution_count": null,
      "outputs": []
    }
  ]
}