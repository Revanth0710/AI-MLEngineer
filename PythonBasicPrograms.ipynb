{
 "cells": [
  {
   "cell_type": "markdown",
   "id": "c21a84d5-3829-47e7-911b-dd51861ee7ef",
   "metadata": {},
   "source": [
    "1. Print numbers from 1 to 100  \n",
    "2. Check if a number is even or odd  \n",
    "3. Find the sum of numbers from 1 to n  \n",
    "4. Calculate the factorial of a number  \n",
    "5. Check if a number is prime  \n",
    "6. Print the multiplication table of a number  \n",
    "7. Reverse a number (e.g., 123 → 321)  \n",
    "8. Count the number of digits in a number  \n",
    "9. Check if a number is a palindrome (e.g., 121)  \n",
    "10. Print Fibonacci series up to n terms  "
   ]
  },
  {
   "cell_type": "code",
   "execution_count": null,
   "id": "625bbada-c155-4e8f-b558-cb64943713c8",
   "metadata": {},
   "outputs": [],
   "source": [
    "# 1. Print numbers 1 to 100"
   ]
  },
  {
   "cell_type": "code",
   "execution_count": 46,
   "id": "47e7cb80-872d-4af8-b206-a775edf23f3f",
   "metadata": {},
   "outputs": [
    {
     "name": "stdout",
     "output_type": "stream",
     "text": [
      "1\n",
      "2\n",
      "3\n",
      "4\n",
      "5\n",
      "6\n",
      "7\n",
      "8\n",
      "9\n",
      "10\n"
     ]
    }
   ],
   "source": [
    "for i in range(1, 11):\n",
    "    print(i)\n"
   ]
  },
  {
   "cell_type": "code",
   "execution_count": null,
   "id": "194b8c8c-2fa5-4d48-a0da-097786b7927c",
   "metadata": {},
   "outputs": [],
   "source": [
    "# 2. Check if a number is even or odd"
   ]
  },
  {
   "cell_type": "code",
   "execution_count": 12,
   "id": "373bed19-7f27-4c9f-9fb8-dccc9c06bf39",
   "metadata": {},
   "outputs": [
    {
     "name": "stdin",
     "output_type": "stream",
     "text": [
      "Enter a number 11\n"
     ]
    },
    {
     "name": "stdout",
     "output_type": "stream",
     "text": [
      "The given number is Odd\n"
     ]
    }
   ],
   "source": [
    "def is_even_or_odd(num):\n",
    "    if num%2==0:\n",
    "        return \"Even\"\n",
    "    else:\n",
    "        return \"Odd\"\n",
    "num = int(input(\"Enter a number\"))\n",
    "result = is_even_or_odd(num)\n",
    "print(\"The given number is {}\".format(result))\n",
    "        "
   ]
  },
  {
   "cell_type": "code",
   "execution_count": null,
   "id": "b772b62d-6fdc-4ed6-a7d4-1a77196ddfc0",
   "metadata": {},
   "outputs": [],
   "source": [
    "# 3. Sum of numbers from 1 to n"
   ]
  },
  {
   "cell_type": "code",
   "execution_count": 50,
   "id": "b871df45-5290-45df-a83a-5d3d5424d32c",
   "metadata": {},
   "outputs": [
    {
     "name": "stdin",
     "output_type": "stream",
     "text": [
      "Enter a number 10\n"
     ]
    },
    {
     "name": "stdout",
     "output_type": "stream",
     "text": [
      "55\n"
     ]
    }
   ],
   "source": [
    "def sum_of_numbers(num):\n",
    "    total = 0\n",
    "    for i in range(1,n+1):\n",
    "        total  += i\n",
    "    return total\n",
    "num = int(input(\"Enter a number\"))\n",
    "sum = sum_of_numbers(num)\n",
    "print(sum)\n"
   ]
  },
  {
   "cell_type": "code",
   "execution_count": 48,
   "id": "05e74712-6357-4433-825c-019b093caeef",
   "metadata": {},
   "outputs": [
    {
     "name": "stdin",
     "output_type": "stream",
     "text": [
      "Enter a number 10\n"
     ]
    },
    {
     "name": "stdout",
     "output_type": "stream",
     "text": [
      "55\n"
     ]
    }
   ],
   "source": [
    "def sum_of_numbers(num):\n",
    "    return n * (n+1) // 2\n",
    "num = int(input(\"Enter a number\"))\n",
    "sum = sum_of_numbers(num)\n",
    "print(sum)\n"
   ]
  },
  {
   "cell_type": "code",
   "execution_count": 30,
   "id": "876f09d1-f002-4699-9890-863ed9a5bdd0",
   "metadata": {},
   "outputs": [
    {
     "name": "stdout",
     "output_type": "stream",
     "text": [
      "55.0\n",
      "55\n"
     ]
    }
   ],
   "source": [
    "n = 10\n",
    "print(n * (n + 1) / 2)   # ➡ 55.0   (float)\n",
    "print(n * (n + 1) // 2)  # ➡ 55     (int)"
   ]
  },
  {
   "cell_type": "code",
   "execution_count": null,
   "id": "8f060131-3891-4b37-a5a4-0c46f113cc55",
   "metadata": {},
   "outputs": [],
   "source": [
    "# 4. factorial of a number n"
   ]
  },
  {
   "cell_type": "markdown",
   "id": "cdf29aae-e53b-4756-b369-b63ab9654ce0",
   "metadata": {},
   "source": [
    "\n",
    "n! = n × (n-1) × (n-2) × ... × 1\n",
    "5! = 5 × 4 × 3 × 2 × 1 = 120\n",
    "0! = 1 default\n",
    "1! = 1  => n * (n-1)!\n",
    "=> 1*(0)!\n",
    "=>1*1\n",
    "=>1\n"
   ]
  },
  {
   "cell_type": "code",
   "execution_count": 62,
   "id": "2246e320-d507-408e-89b2-09ba9d9d3b91",
   "metadata": {},
   "outputs": [
    {
     "name": "stdin",
     "output_type": "stream",
     "text": [
      "Enter a number:  3\n"
     ]
    },
    {
     "name": "stdout",
     "output_type": "stream",
     "text": [
      "The factorial of 3 is 6.\n"
     ]
    }
   ],
   "source": [
    "def factorial(num):\n",
    "    if num < 0:\n",
    "        return \"Factorial not defined for negative numbers\"\n",
    "    result = 1\n",
    "    for i in range(2,num+1):\n",
    "        result *=i\n",
    "    return result\n",
    "num = int(input(\"Enter a number: \"))\n",
    "fact= factorial(num)\n",
    "print(f\"The factorial of {num} is {fact}.\")\n"
   ]
  },
  {
   "cell_type": "code",
   "execution_count": null,
   "id": "60983979-f159-42ee-89fc-1d78fd88210c",
   "metadata": {},
   "outputs": [],
   "source": [
    "# recursive"
   ]
  },
  {
   "cell_type": "code",
   "execution_count": 64,
   "id": "80343a7b-c702-4b06-b05b-9a629da16e51",
   "metadata": {},
   "outputs": [
    {
     "name": "stdin",
     "output_type": "stream",
     "text": [
      "Enter a number 3\n"
     ]
    },
    {
     "name": "stdout",
     "output_type": "stream",
     "text": [
      "The factorial of 3 is 6.\n"
     ]
    }
   ],
   "source": [
    "def factorial_recursive(num):\n",
    "    if num < 0:\n",
    "        return \"Factorial not defined for negative numbers\"\n",
    "    elif num ==0 or num==1:\n",
    "        return 1\n",
    "    else:\n",
    "        return num * factorial_recursive(num-1)\n",
    "num = int(input(\"Enter a number\"))\n",
    "if num < 0:\n",
    "    print(\"Error: Factorial is not defined for negative numbers.\")\n",
    "else:\n",
    "    result = factorial_recursive(num)\n",
    "    print(f\"The factorial of {num} is {result}.\")\n",
    "    "
   ]
  },
  {
   "cell_type": "code",
   "execution_count": null,
   "id": "02b57fae-3d7c-4545-b166-ed264ed7d306",
   "metadata": {},
   "outputs": [],
   "source": [
    "# 5. Check if a number is prime  "
   ]
  },
  {
   "cell_type": "markdown",
   "id": "30b33ad8-8913-42c9-87e8-b004394dc360",
   "metadata": {},
   "source": [
    "A prime number is a number greater than 1 that has no divisors other than 1 and itself.\n",
    "If a number n has any divisor other than 1 and itself, it must be less than or equal to n // 2.\n",
    "\n",
    "\n",
    "Let’s say n = 20.\n",
    "\n",
    "Any number greater than 10 (n // 2), except 20 itself, cannot divide 20\n",
    "\n",
    "So, we can limit our check to numbers from 2 to 10\n",
    "\n",
    "Divisors of 20: 1, 2, 4, 5, 10, 20\n",
    "\n",
    "All proper (non-trivial) divisors are ≤ 10\n",
    "→ So we only need to check up to n // 2\n",
    "\n"
   ]
  },
  {
   "cell_type": "code",
   "execution_count": 78,
   "id": "df53ecb9-a7d2-48d0-a8ad-b731c44fd47c",
   "metadata": {},
   "outputs": [
    {
     "name": "stdin",
     "output_type": "stream",
     "text": [
      "Enter start of range:  10\n",
      "Enter end of range:  20\n"
     ]
    },
    {
     "name": "stdout",
     "output_type": "stream",
     "text": [
      "11 13 15 17 19 "
     ]
    }
   ],
   "source": [
    "def is_prime(n):\n",
    "    if n < 2:\n",
    "        return false\n",
    "    for i in range (2, (n//2)+1):\n",
    "        if n %i ==0:\n",
    "            return False\n",
    "        return True\n",
    "        \n",
    "def print_primes(start, end):\n",
    "    for num in range(start, end + 1):\n",
    "        if is_prime(num):\n",
    "            print(num, end=\" \")\n",
    "    \n",
    "start = int(input(\"Enter start of range: \"))\n",
    "end = int(input(\"Enter end of range: \"))\n",
    "\n",
    "print_primes(start, end)"
   ]
  },
  {
   "cell_type": "code",
   "execution_count": 80,
   "id": "3f9b4620-b6de-4e28-97e4-824dcb55ec6a",
   "metadata": {},
   "outputs": [
    {
     "name": "stdin",
     "output_type": "stream",
     "text": [
      "Enter a number:  43\n"
     ]
    },
    {
     "name": "stdout",
     "output_type": "stream",
     "text": [
      "43 is a prime number.\n"
     ]
    }
   ],
   "source": [
    "def is_prime(n):\n",
    "    if n < 2:\n",
    "        return false\n",
    "    for i in range (2, (n//2)+1):\n",
    "        if n %i ==0:\n",
    "            return False\n",
    "        return True\n",
    "num = int(input(\"Enter a number: \"))\n",
    "if is_prime(num):\n",
    "    print(f\"{num} is a prime number.\")\n",
    "else:\n",
    "    print(f\"{num} is not a prime number.\")\n"
   ]
  },
  {
   "cell_type": "code",
   "execution_count": null,
   "id": "a0cd6fc5-2436-4e08-8806-cf745378bd0e",
   "metadata": {},
   "outputs": [],
   "source": []
  }
 ],
 "metadata": {
  "kernelspec": {
   "display_name": "Python [conda env:base] *",
   "language": "python",
   "name": "conda-base-py"
  },
  "language_info": {
   "codemirror_mode": {
    "name": "ipython",
    "version": 3
   },
   "file_extension": ".py",
   "mimetype": "text/x-python",
   "name": "python",
   "nbconvert_exporter": "python",
   "pygments_lexer": "ipython3",
   "version": "3.12.7"
  }
 },
 "nbformat": 4,
 "nbformat_minor": 5
}
